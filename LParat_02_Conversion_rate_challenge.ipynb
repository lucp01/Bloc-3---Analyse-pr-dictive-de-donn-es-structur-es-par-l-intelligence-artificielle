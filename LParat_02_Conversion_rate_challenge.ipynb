{
 "cells": [
  {
   "cell_type": "markdown",
   "metadata": {},
   "source": [
    "Luc Parat - Full Stack 2022\n",
    "\n",
    "Certification : Concepteur - Dévelopeur en Science des données\n",
    "\n",
    "Bloc 3 - Analyse prédictive de données structurées par l'intelligence artificielle"
   ]
  },
  {
   "cell_type": "markdown",
   "metadata": {},
   "source": [
    "---"
   ]
  },
  {
   "cell_type": "markdown",
   "metadata": {},
   "source": [
    "# Conversion rate challenge"
   ]
  },
  {
   "cell_type": "markdown",
   "metadata": {},
   "source": [
    "---"
   ]
  },
  {
   "cell_type": "markdown",
   "metadata": {},
   "source": [
    "## Description of a machine learning challenge 🚴🚴\n",
    "- In machine learning challenges, the dataset is always separated into to files :\n",
    "    - *data_train.csv* contains **labelled data**, which means there are both X (explanatory variables) and Y (the target to be predicted). You will use this file to train your model as usual : make the train/test split, preprocessings, assess performances, try different models, fine-tune hyperparameters etc...\n",
    "    - *data_test.csv* contains \"new\" examples that have not be used to train the model, in the same format as in *data_train.csv* but it is **unlabeled**, which means the target Y has been removed from the file. Once you've trained a model, you will use *data_test.csv* to make some predictions that you will send to the organizing team. They will then be able to assess the performances of your model in an independent way, by preventing cheating 🤸\n",
    "- Your model's predictions will be compared to the true labels and releases a leaderboard where the scores of all the teams around the world are stored\n",
    "- All the participants are informed about the metric that will be used to assess the scores. You have to make sure you're using the same metric to evaluate your train/test performances !\n",
    "\n",
    "## Company's Description 📇\n",
    "www.datascienceweekly.org is a famous newsletter curated by independent data scientists. Anyone can register his/her e-mail address on this website to receive weekly news about data science and its applications !\n",
    "\n",
    "## Project 🚧\n",
    "The data scientists who created the newsletter would like to understand better the behaviour of the users visiting their website. They would like to know if it's possible to build a model that predicts if a given user will subscribe to the newsletter, by using just a few information about the user. They would like to analyze the parameters of the model to highlight features that are important to explain the behaviour of the users, and maybe discover a new lever for action to improve the newsletter's conversion rate.\n",
    "\n",
    "They designed a competition aiming at building a model that allows to predict the *conversions* (i.e. when a user will subscribe to the newsletter). To do so, they open-sourced a dataset containing some data about the traffic on their website. To assess the rankings of the different competing teams, they decided to use the **f1-score**.\n",
    "\n",
    "## Goals 🎯\n",
    "The project can be cut into four steps :\n",
    "- Part 1 : make an EDA and the preprocessings and train a baseline model with the file *data_train.csv*\n",
    "- Part 2 : improve your model's f1-score on your test set (you can try feature engineering, feature selection, regularization, non-linear models, hyperparameter optimization by grid search, etc...)\n",
    "- Part 3 : Once you're satisfied with your model's score, you can use it to make some predictions with the file *data_test.csv*. You will have to dump the predictions into a .csv file that will be sent to Kaggle (actually, to your teacher/TA 🤓). You can make as many submissions as you want, feel free to try different models !\n",
    "- Part 4 : Take some time to analyze your best model's parameters. Are there any lever for action that would help to improve the newsletter's conversion rate ? What recommendations would you make to the team ?\n",
    "\n",
    "## Deliverable 📬\n",
    "To complete this project, your team should: \n",
    "- Create some relevant figures for EDA\n",
    "- Train at least one model that predicts the conversions and evaluate its performances (f1, confusion matrices)\n",
    "- Make at least one submission to the leaderboard \n",
    "- Analyze your best model's parameters and try to make some recommendations to improve the conversion rate in the future\n",
    "\n",
    "\n",
    "## Helpers 🦮\n",
    "\n",
    "To help you with the methodology, we created a template (**02-Conversion_rate_challenge_template.ipynb**) in which all the training/predictions steps are implemented for a very basic model (logistic regression with only one variable). Please use this template and feel free to change the EDA/preprocessing/training steps ! May the force be with you 🧨🧨 "
   ]
  },
  {
   "cell_type": "markdown",
   "metadata": {},
   "source": [
    "---"
   ]
  },
  {
   "cell_type": "markdown",
   "metadata": {
    "tags": []
   },
   "source": [
    "<img src=\"data:image/png;base64,iVBORw0KGgoAAAANSUhEUgAAAPwAAADICAMAAAD7nnzuAAABUFBMVEVi3FP///9e2077+/v19fXm5uaysbKq6qPT09OLwoTAwMBh2lJf3k/y8fLq5+qK2YHa4Nmx26xe1FBd0U9bzU1VwEhY2kfX5NXE8L9NrkE7iDGqxqbo+eZQtERZyEtXxEpHoTtMmkFu3mBTukbx9vDS8s5om2M8jzFVnkxHoTyXu5Pd6txGij5DmTdYnFDw++42kSl5226a5pLNzc0xgCc0iCni+ODY9dTG2cTo8Oe37bGk6Zxq3lzN8smU5Yue3peH4H1RzEG61rd+0XSItYO+47qv0qtmzFlTkEw7my5z3Ge2zrRcvFCqzKao26MwiiO97ribzJV0uGwcfgdfk1kkehdwqGlyvWrI2sePuItxzWaN0oWm1KJzyWpuqWZEtTVcrFNWsEs1pSWIroQIbgB/xHeMx4Z8yHR6pnac1ZaExH3F0MS3yLW6tLuqt6iiup+9b4owAAAZE0lEQVR4nO2d6UPazNbAIbG1bezja0jAgEkQogiIigUERCWIS0DcnmpRW5f2ttXe2/b///bOTGaygS2bWCznQyvDZJjfLGdmknNyXO6/WFyPXYHHlN/BT81M5kcHUfKHayuLXcAra6uVUMHlogZRXK5CqFLMZzqCX5xZ93pRIQMroPZj3sLolNIm/FQ+6R1kbot4XctrdBvw9GFyoLvcIVRhfaVl+JWk6wmhQ6EKq82UXyO8kn8qA94q3lAT1dcAP7X8BNFdsPMPGxSfE34q+TTZAb1r1Kn37PD01FOb7VYZW6d/AU9nKk+YHUz8VeVeeHqq+KTZgeSV++BH1p86u8tl2+9Y4OlV72NX7eGFytDN4OmZsceuWR+ESip0Izy9+OQnPBIq3ww+/9jV6o9QFXPgE3g6E/orOh6s9qvGwMfw9MjoX6DtdCmsOOFzhceuU99kbHWEtsLTdP6v6Xggih3+deWxK9RH8R7irnfpM37lsSvUT6GSr63wr/+SdQ5LIa53PYb/C3b1Vpl4bcKP+J7sLYymQq2a8PTIVuix69NXoYrPRgz41xO9LNnx4OQPFCrpQ5Neh9/v3SpPhZKmVCoVlqEYppXr+thaVCX7msCPPNvo3WnWu2ael93KYmYtP86pDPPbBlhfXl5eXV5Nsi01VZcS2iLw9Mj/XfQQftLtEGXlTvKwv0EK4YcKhxL3u6w9kIIVfrx3o60RHt4cPFc97K+uogj8hBiWHr7vmYl/+gYPfuMozP1qQBvwtaUg//Bd3194SC9ZoHTVZraGAR9IR3mPBR5n7Fn1sEz8A9U9hH/dB3i3cgzoYQaK8npDyWIxWWG9FFaElJch8P9qV6qRCjImScae1RDKA8PT2Wo1G7fQxzUR0lOF5ZlFRZeVDUmFk2Esr5CHqDRMPwQaggEZ10jGzMYvJ0378sDwytuT9MHS0mXWeEwQ08IeJjRjHw93MsDyHtpHydYVz4XWbEn0vtRDfOah4Wf9iaAgCsIRuWnkmxYAgPM5+URY9jjhS5ogeaYcGbdAM/Wqkg8PHwmGZU6SriZw7XOnQd7jXXMw0e9FWXXAV9NBXm3QHRNAE/ao7/sAL8gsw7KeHWITElsSJWrdyRQ/FhvhozxbdGbMvevZItgPeKTeGYagBVBzAIq4r5715QjUmXa1v0hmg5ID+i0Aet6jNmSsidygwbuoUdKhfsBE5fePpw8ODpYWSmRARMTz8QusF7Ozt6enC6CVPOr+e5hxaWmuhLVGLSj3qOv7CL++SODhBoblwoImCIJ4g7s0ANpE3SHr/AnQk0EB7ge5KyEI84k3eMUsJcKegYMnJgEAHtSe8px/uNi42DyX8aqX9QfDnAGfSghhXoa7QWYHZ+S39O/qc70a9/2DH8uTOZ8C8KFVov9W8GLmm4+GOXN7mwhzYIsD9zgzuNEy2JAqviBKgwbPkNUtloryFfsmR4dPiBZ4ODoAe6hxmxxfwCV2LX2Dp4q4A5VbMLmdy3xzeHDZYWPGgYOnqMqiAekX9vHf9fLC6Vn8Hngw36lVclF54ZJkBPDygMC/PRAk1VsZNbapgVRExKorm0pFEtpRE/iqDk86vp5KJ4Lay4GDj5W/bBzOmEafuXl/Yg9/nE1FouLVVhN434F25QkxLNaKt2mg/MkGeXDg3TQQ64y9TUWE80WDSZQkQ9tDeNJK8e2tqbzK4e/KSwLPcYa2Hxh4h8RSYJXfwbred3m9t0mWPATPWjXhxBWPM+Yu93aK5KtBhacDYNCLEku+zGVXjHM+gmfyltw1TSBHQWXF9JQZUHjlk9+fAPt1armJy4cOv275JnAQ/Nwk40DCK9VdoNwBO+tiLMt33GeFZyzXgVNdeN/8mPMNJDytKDlfbP4kkgiKEtq7sMTqnc768bEursOHJkln5z6BI628nyMZ52sG/B++yaGWDye2A4EqlEDs7HYhnYboPL5xzahft0u+eL165k+XS9slkDMGNCE4sDDqxVap7stWA5dwinBX77ZL9Xg9G/MfvNyuwQJj0+IfDu+i1CtBWyKSiEbBqZQ3nlcxDMcL13NzkUgiKlx91GDOqIBu1bMcf3M9Nx1ZSiTgkdYji9HrhTnwMSiKGsyoBcN/+KkOlMzJYVN4cD7lWMtNCNYj8aIIWiQsSxLPwyz41iT8JiyCA3wY3tJl9E96PplHZfXqOd4DwrOsxyIs67jnzLAejpMkeHDFOUkG/RuO0xPgt3o+lpT4p9/DQ2XbpOFhE0yELQK/wlkariSf9HyMPb37Cj4gfA/lYZ7YDgj8w8gQfgg/hH/s6vRXhvBD+CH8Y1envzKEH8IP4R+7Ov2VIfwQfgj/2NXprwzhh/Adw7fqEVQIIfmD/LS7hae8hQq0hQ9Rv3uVViG/MgNkZbLSB9eh1qQ7eMq7vraSmZqaymRm8sVf4lMh/CB+6rxHJoTdS1fwY5U1yyNkJbPM3l+ACf9B7pnZdJfSFXyDndjU+L2uABTxL4gf98xwuFvpAt6bd7KDQpbvfZREej4HnzD/GfSdwxtWhVZR3kn3zehQfqaUBRKYewrwjRakbndZM56d4+XPWAUZLhyM+P3QMAXDY3cx6zppetKa/1h/E6dS9kTkdNaB/23H8FQSm4kp1dvbs2ocDYNqOiHK2HOssp6fXFs7HC3iN+8wxY2XZSCn5PH6GMyxMjOZXzfeQBda1iVEMcnRyZnJ0XXra3soV3I5D1Lzq8WCkUwViiDnytrhapKh2hxQncMTo6JqKpVOH/hvq4o7vgutK5ClbcV4z64ys6E/asamZFN7MpwZVMGwu3ZnRkP6UCDOJ0U2j42v1pLGM1kqOUksshbX1r16KrW+ZiQeJttcRTqHJ2axP6GpTTCaiJyWyinoGwEq4C1anaLoNeg2R0yNMnvQUYIq2CyWMqh9DPgP5pRa3MEKghq1emQpoypM9toSp8bVtvC7gMeGlUr5WuR5PiwEE6AVkGVJg/tQRuZYYnwXv0H21I63kE5BRuM665czKlKhlHNdPYQeh84F52tbRhudw68bbT41sbG5o3K8KAho0FPrDevAFs8ReN80WOepBku1LTAeGn2ugNCfoX40PHRMueCYVecP5fbuXW16Ce+qWLtncWVyeUeVoRENfOGYs55KWeA5A17gqGXyRb1OzPAvJLYpvHv7CjRW47oa/yYTnUv7ssT3ajvcxjraMTzj9IJTFjdUFf6w2Um5ahbNjfhbaGFMrKsBfIEY387Oz89i28ISWAQs8CZsVpAZl2GT66vq+asLCfEOZ/20O79bxU1y3YapVuc9z6gNb45e3IDwxHKajqVSqZOYmw6kUtCkzgKPp0zubcofSSxh5XEtswZ8IHXi9xHcaJglc0y5PQFlZt302Yk/IeKOvwXlR5ay+oeYJrc88LuA94RLDWPxEEzcJP67eoLQ3p+lwcYmaBv2WE9V/01rgvgRWxe/DHPj+NL6f/z+yCUeyr5r0YMvoD/BIhPTtVPYnB9wg/wnBYr5+Flvw1Ki9aNDF/CsJLwkHoGGbKjGfJ6HFRRFuApEwZT3mPAS/jMbq73f39/HQ6ImSAT+UwpccoML980ZF/hgM4IiNVQk/qF4DBUzocPX51o3Tu3iYMN4eCFxWjPcPJFk9lTcS7n/AHZe4iSwCoi8udQB+B08g+1uCCWNJ/DI+5j40QF4YqBfPUFFyqDIsKwS3WIrJr4Q5Fsd990caRmPHA4uHfjL2Zwx/pUvV1gR+k4isBrQohC9+sQK3/Q981ktbMBDo3xjqMwZFwQOLEU2LPJ6m+8mWlZ5XZ3nQx6wuAejgP/UeDnA+4+4TspJRD/BgMqi7a0FvtmZyO2zwAehV50FnnhdLhGvZOhvuNqsFOVt65O+C3iqkDn0qMgyFkzrAP7x2scN/NeCXosxfHfLAi/jP+ufYha5TYgmPG+DJxfEp1GRlJey7CMVWymf5hMtG2V3caSlVuBr8D1wDPLiR+wgBpYarIRBN8GtnHd0LYROWxZ4CbsQ+OCZCIof/gPmOYE/dcBLd6RpYZHgXJBnKLCZwonzejEHEViMP4LPVg8JTxV0rTWVH08mK8kLvLgrZW2PzOjs8XmleAhbSLXPeWmT+A5Oa0FNCx4ppagWDIqyBZ61wZML6InzSqW4AmNOgKMS/iHfLjhUaNpxPH4MSgHFPLzCM9XNVGbFeINufCHKk3HvVjIZXRXsg2OLFV7Cc5jOfvl6cbcFLp75EOYlz73w3JbxYyt6M09teBii7n2xb1/vJkD7LH67QpbrDwxvrOYOgW/3aaLMt3Y8Vnh1nDSWQl6WMLUJ6kx2eA3wnvPGe2Z5j3mIWFzUv0evXWl5c98xfKXpcpXzw3dCnC86kun3onWHJ3nU/YZLJ6RfwXMXzvzKZ5kbbwhOEt9r48Z45wcbbj/n/GWwyPqhZ6C6af+KDhwkRMveHqzhV1uO2AqlqOVg0wDPeqQje9/n4O1C9cJB75sLiq0f6zqGZ7mr45KdUam+TUUEUG1W/Zq11jPmONhILMuJR9aLldg8yMHeD89y4ZfWFy35ZtMJOII++yyJdHU3BYt5+J6Hnj+XZ+abj5TAW3AaCaLXnrHS3kufmZ7y+6OihPe0cQAPcsjiXE0xssymkKdlU/g4utfNSuJ1jLRXPLabQksaK90YP+Su3qLjRB96HtBLYSERSS+clsEGZdcPz5XIHwr5xUhhbfr0rHZ2uwvSQZuIYNryWjqFTrdgHYZtp0UWyrFaDGUBBxWZBSxCBGRJoZfJgLMDuUBi9CKX4AVns/CCBBrf5IcCsfIsrkHLO/vuDjYsJ6M7dxG4Q4mAo6YgkmUGfMcLYN8PNh1+6D0WljzoHASzoVvXDGq7aCKNrxXg6gy7N4ryiAhexhdAZ0NID4pMoH2MXiRuZvOHYFa5jWdhXR1sID68cxeEIghwpSaaFhw+ZLjv1b+Q9bkA80IfMdRAqO1AjmgU5AB1hh0Gx4MA8/Bwk8ZyTS+ARepuZ66GYvh2buF1+YhaP2DJPBBZRl5itq/wN9ihDiZA4TzEg4zF1/IwTeeDXmQSLslyAdO8SHsqb6/BQ8Prv82wSBo8vnC68eC20THMzMG47HmafWpS5H3FtFj3Htjk3O/r9lsnuPbd5JpfoLvmtVGMftXQIGkIP4T/q2QIP4Qfwj92dforQ/gh/BD+savTXxnCD+GH8I9dnf7KEH4IP4R/7OoYQnmbe6yR9J54K3QF3xiUrCHsVodxywrro0iWHfdpC8t6erH159C/kK7gK+tIloukJlRlFYkRd4tK4iyV9u6tEoecjGQzMTHDO7X3dOIe6QbetBDfwY8ViM/RjIqfHhAjW/qivRf4EVcsn2gPZBTCFqfbQrgHr4LsCp5YRix+xlX0ksflV7pdjOGLkrnhuXb63oDXwk3ha209kLxPuhr2xhtca/pzYcPs1v1NNwczjFdKmthW1xvwSzajOgMexoB4ZHhqnMTfuEZVMaPwZDU93gp53fcpNNhoo+QW4HsQ2KK7nid1URaQyWfBMBDK6WbvBTwNchEchAOvU40zwJF+D7zrT4JXiYVYGQ5zqmhYyCgvofmFMQ2gzSzLUF5vBSxh60lVteNTXmZ9dXS16DHCktngwXW6MIx12KsozYx45rV9fnB4F0PiC4Fh7mGsPkBZSGs4nC4kYAyOSp64lEyeW8KPUYV1YtmVIYuCDZ4QuydVCzxud+VCf4JNRt3KTuvKpUt4lVhGamCYhyzWafFjMCy9uKq5ExihYtViOaXsG6aClC24x8wmWiSt8EbgspmwvGPAa9+MiI7w7dnGqINGbw9thIjFcLQ5Bl1rdQKiy2ABIMaxgbTAq3m7KRkMU4a0QNHujoSMEW3wZPj45oSwCR8k4RF819CGhdif5y6DrZtjdWuZQcZ9TZNZm/dXKWh6A8wmBNVpsUkfici5MOQ0ZsxdAXoLPDFJzS1EgrwF/orYMSL/VGwJ7PYhK8j+9DxD4snlQA1soeVyc2EP6Zv5IF/ENoe0QkLe5y6RuSBxsFMUMjK2Ab0J/458v5CGQX4s2p7DF9SWgHJN6qOe/pRq3eK861Mdi8e9cime478w3Kn4gdQUdAbumFxg1nBMqcEeI+tB9vayXMcFgE2DAT+HLQ8VFP+CNeGjYZWUCZYSFTseKH5/tPXdT7fwDDEhrn3Ew7CKGUofidvbbUTc1CutQO8o7Ruu9LRgxOfz+dMJ7RqbbW6LkvGaBZxEx1BIBMa2zpMptxA0GqJ6Egn2wwgRX5/EYzur4T66LeP6asTedCFBrNDrJzAg1xUmuwSVxkN3Nh0E6d/0T3Uwtx2OKAGd3b7JYfFPw3GP871Ftr99gydxFHPYMDi+u4CBjnBrVA+CxE0k8Pby+MPmOR4jsSUBT5X47OW7D5ub2Ig6Phd2wPtOIuggQ1mHvYc42eQiGrbJjqfa2vN3fSeH+NHTcX38V/1REqdBT6BPI4YvmZLLLULRP5UOhK94lOjJZDN86XRBImcDx94enxmVUw1nj6Xa0PW9sMPjbFbfyqeIcGereC6dCN/jS3agNVjR6zAN/ldZPY6XA568jyCwpOtQZVYPDdE/eGN/jyS+kAh/sK15cF8faupLVj8Ifm4KX9b2HBfAINaN8GTU1cv6/9l5sBVo4/DY/Q1MY5+DBExwnrM1xy40AieKwWeVQDpIhr0tPXspOOHd8Ru5Yc4zLkZXeYquXehYO4t8b+BV6672FKCqG5aUHBqJePOZPUmll8woH0Dz48vepiOW9KDY6HYItz4N53mvbVOZ2/VH2zro2uAvOrp1bQ1Zo4AJ7mGtaiAA9TQZn3CrAo2jb0rfPiLjahWvVvV/YRBO4eNdCRldywY8HSN/3PDOpQ6e5azw2fbUHbh624R/tjHWATvDbJq/X0MHd2sY4Vs4EiniU6+cXe/t7EDPmDtoNc6pxA2t9G6P3zkHCizzgZc5Y4dHx05w6B53Hb6ExglvixU0m2rDfRxKqGSB3+8E3uWqmApuF0065txI8C2gkWi+TSG+gmN1bd3AU61xIKAzM/qfi58lM1C3LxW5JhtcqPOc8JRF4eRO2ryxR1VM+JF/JjpiN/b3gIxEITImfRWPRLZR37+HB3H2osFhbvFcMg826ah4hzfQ8WuZdSg88zUNbn2Rb+t+NpWsW+C3Qx3BUxfETSwQCepvACLNoZQjuv5ldpwucHGwu4VeUw0edrGg5WBzIMjGJuHIfqrTbweYKg+5tbUz6qnii2ew5gj+WT3ZkcZjyP17ZTahh4w1lr/4NO4hhpFmbJ509Xl0TGNY1d73ytkBOO2ZR1pB8mySIF/XlvM8CuxLmU8G3NV55NbWDvzFP69N+BedPak09jn1eTzpjOaA+3riCyPd+Qg+7UPxlmFmxiO9M/3zctnTNDzCkFsc8E4Oq5KQfVnRiFiMpnclRFEUucnV1kler/f2MwLvBvB3nbCDUjYntmuBQKBsLDXsOIxZFghcmm5uoI/3vtRKWV+9Gijvpk03NI8sHp+BdF+2GjuFPmY8UAXjd0fQG74MPavYnSP0IXYm8Bd3R2fgr1N00JnJ5MdXcc/H213kwS//14QH6r7a2a1whpWFYAKIEU8MBiWDCVHLUyXobibeXE9PTyPXMNMNDYbwCkan56YjoAQB3ttDTocakKCAXhOhf9A0UVa5KwGmQ686OLcUQ92gRb6taidfPBuxwL/obNKjt2fY44mxeswyEomMZONkPiwCCfOSeexmUJwyPVAZieoGW0R3mGLRB+I+xUJvNvSnx2s9LUEv3pZfGqCLt2aFB+P+yNsZPOPxcBxnBh6DQCTFlk/3HYMRyaxf4MhkklmCEckMu9QZn/CfLGs+GITS5mEWSgGM+hE3hoeT/r+dvpK3MZxY8wBjllBljem2C6zXW5zSjD9tm7tqyt/6S1J0Gbt4o095HR6M+zdfOtvkPYJQxgMgtwIjvrbb8aEqHvUYHnT9/yp/jl3O70SVvr2Hi0QNrB1Is7a3yIOOt8GDru9wtXsMAbpPj1qZSLTxlhAslf+RjtfhUdf/t0OF/wiirxJ48WiTfezLmwb41y/eBB6oqg8hSPVzzrWjBaGSr15gdUfgUde/+jIwXe+6b035rYT+Z3a8CQ9m/avNgdH4nUrhyNLxBF7v+h+DM+07E+rbK0PVW+DRHhfQP+m+p759twx6K/wIoq88ZfqvdnYTHg38N69+nj9ZeubLKzThm8Fj+h9PVusdPYfslo63wsNpD1T+96M/KOxI76Ty47uT3Q4PlR6gj20+dk17LVToy49Xb5zsNnhAP/IMaL3vP86elN6jxr7+fN6E3Q6P5j3s/OfPy+CQ9yQWfQCxCdCbsTvh9RXvxatX35/HNiuFscHmp8ZcoeSXH9+/Q3Sbnm8Oj+hh54Pe/3H2ZXOnMDao4gqdf30Ze/4djnjU7U72Rng48Qn+9+c/fvz8eXb0cgClHPv58wckR+iNQ745vIEP+eEAGFwB1X9D0JuwN4UH9Agf8r9BLTCYAsEh+T3o98BjfMgPGmBwBdb/9ch96PfCY37cAAMqr18j8vvQfwWv88MWGFShfwX+W3izBQZRfkvWAvwTlr8a/v8BTv5WA11rqxEAAAAASUVORK5CYII=\" alt=\"DSW LOGO\" />"
   ]
  },
  {
   "cell_type": "markdown",
   "metadata": {
    "colab_type": "text",
    "id": "0eiKSLYG8XvO"
   },
   "source": [
    "# Challenge : predict conversions 🏆🏆\n",
    "\n",
    "This is the template that shows the different steps of the challenge. In this notebook, all the training/predictions steps are implemented for a very basic model (logistic regression with only one variable). Please use this template and feel free to change the preprocessing/training steps to get the model with the best f1-score ! May the force be with you 🧨🧨  \n",
    "\n",
    "**For a detailed description of this project, please refer to *02-Conversion_rate_challenge.ipynb*.**"
   ]
  },
  {
   "cell_type": "markdown",
   "metadata": {},
   "source": [
    "# Import libraries"
   ]
  },
  {
   "cell_type": "code",
   "execution_count": 1,
   "metadata": {},
   "outputs": [
    {
     "name": "stdout",
     "output_type": "stream",
     "text": [
      "Requirement already satisfied: kaleido in /opt/conda/lib/python3.9/site-packages (0.2.1)\n",
      "Requirement already satisfied: kaleido in /opt/conda/lib/python3.9/site-packages (0.2.1)\n"
     ]
    }
   ],
   "source": [
    "!pip install -U kaleido\n",
    "!pip install kaleido"
   ]
  },
  {
   "cell_type": "code",
   "execution_count": 2,
   "metadata": {
    "colab": {},
    "colab_type": "code",
    "id": "AGhdl7Bt2xZd"
   },
   "outputs": [],
   "source": [
    "import pandas as pd\n",
    "import numpy as np\n",
    "import seaborn as sns\n",
    "\n",
    "from sklearn.model_selection import train_test_split\n",
    "from sklearn.impute import SimpleImputer\n",
    "from sklearn.preprocessing import StandardScaler, OneHotEncoder\n",
    "from sklearn.compose import ColumnTransformer\n",
    "from sklearn.linear_model import LogisticRegression\n",
    "from sklearn.metrics import f1_score, confusion_matrix, accuracy_score, ConfusionMatrixDisplay\n",
    "\n",
    "import matplotlib.pyplot as plt\n",
    "import plotly.express as px\n",
    "import plotly.graph_objects as go\n",
    "import plotly.io as pio\n",
    "# setting Jedha color palette as default\n",
    "pio.templates[\"jedha\"] = go.layout.Template(\n",
    "    layout_colorway=[\"#4B9AC7\", \"#4BE8E0\", \"#9DD4F3\", \"#97FBF6\", \"#2A7FAF\", \"#23B1AB\", \"#0E3449\", \"#015955\"]\n",
    ")\n",
    "pio.templates.default = \"jedha\"\n",
    "pio.renderers.default = \"svg\" # to be replaced by \"iframe\" if working on JULIE\n",
    "from IPython.display import display\n",
    "import warnings\n",
    "warnings.filterwarnings(\"ignore\")"
   ]
  },
  {
   "cell_type": "markdown",
   "metadata": {
    "colab_type": "text",
    "id": "LHgro65rxKF7"
   },
   "source": [
    "# Read file with labels"
   ]
  },
  {
   "cell_type": "code",
   "execution_count": 3,
   "metadata": {
    "colab": {
     "base_uri": "https://localhost:8080/",
     "height": 34
    },
    "colab_type": "code",
    "id": "W1AU8AH8u0qd",
    "outputId": "00698a97-027b-493b-a2e4-33fdcc295abb"
   },
   "outputs": [
    {
     "name": "stdout",
     "output_type": "stream",
     "text": [
      "Set with labels (our train+test) : (284580, 6)\n"
     ]
    }
   ],
   "source": [
    "data = pd.read_csv('conversion_data_train.csv')\n",
    "print('Set with labels (our train+test) :', data.shape)"
   ]
  },
  {
   "cell_type": "code",
   "execution_count": 4,
   "metadata": {},
   "outputs": [
    {
     "data": {
      "text/html": [
       "<div>\n",
       "<style scoped>\n",
       "    .dataframe tbody tr th:only-of-type {\n",
       "        vertical-align: middle;\n",
       "    }\n",
       "\n",
       "    .dataframe tbody tr th {\n",
       "        vertical-align: top;\n",
       "    }\n",
       "\n",
       "    .dataframe thead th {\n",
       "        text-align: right;\n",
       "    }\n",
       "</style>\n",
       "<table border=\"1\" class=\"dataframe\">\n",
       "  <thead>\n",
       "    <tr style=\"text-align: right;\">\n",
       "      <th></th>\n",
       "      <th>country</th>\n",
       "      <th>age</th>\n",
       "      <th>new_user</th>\n",
       "      <th>source</th>\n",
       "      <th>total_pages_visited</th>\n",
       "      <th>converted</th>\n",
       "    </tr>\n",
       "  </thead>\n",
       "  <tbody>\n",
       "    <tr>\n",
       "      <th>0</th>\n",
       "      <td>China</td>\n",
       "      <td>22</td>\n",
       "      <td>1</td>\n",
       "      <td>Direct</td>\n",
       "      <td>2</td>\n",
       "      <td>0</td>\n",
       "    </tr>\n",
       "    <tr>\n",
       "      <th>1</th>\n",
       "      <td>UK</td>\n",
       "      <td>21</td>\n",
       "      <td>1</td>\n",
       "      <td>Ads</td>\n",
       "      <td>3</td>\n",
       "      <td>0</td>\n",
       "    </tr>\n",
       "    <tr>\n",
       "      <th>2</th>\n",
       "      <td>Germany</td>\n",
       "      <td>20</td>\n",
       "      <td>0</td>\n",
       "      <td>Seo</td>\n",
       "      <td>14</td>\n",
       "      <td>1</td>\n",
       "    </tr>\n",
       "    <tr>\n",
       "      <th>3</th>\n",
       "      <td>US</td>\n",
       "      <td>23</td>\n",
       "      <td>1</td>\n",
       "      <td>Seo</td>\n",
       "      <td>3</td>\n",
       "      <td>0</td>\n",
       "    </tr>\n",
       "    <tr>\n",
       "      <th>4</th>\n",
       "      <td>US</td>\n",
       "      <td>28</td>\n",
       "      <td>1</td>\n",
       "      <td>Direct</td>\n",
       "      <td>3</td>\n",
       "      <td>0</td>\n",
       "    </tr>\n",
       "  </tbody>\n",
       "</table>\n",
       "</div>"
      ],
      "text/plain": [
       "   country  age  new_user  source  total_pages_visited  converted\n",
       "0    China   22         1  Direct                    2          0\n",
       "1       UK   21         1     Ads                    3          0\n",
       "2  Germany   20         0     Seo                   14          1\n",
       "3       US   23         1     Seo                    3          0\n",
       "4       US   28         1  Direct                    3          0"
      ]
     },
     "execution_count": 4,
     "metadata": {},
     "output_type": "execute_result"
    }
   ],
   "source": [
    "data.head()"
   ]
  },
  {
   "cell_type": "code",
   "execution_count": 5,
   "metadata": {},
   "outputs": [
    {
     "data": {
      "text/html": [
       "<div>\n",
       "<style scoped>\n",
       "    .dataframe tbody tr th:only-of-type {\n",
       "        vertical-align: middle;\n",
       "    }\n",
       "\n",
       "    .dataframe tbody tr th {\n",
       "        vertical-align: top;\n",
       "    }\n",
       "\n",
       "    .dataframe thead th {\n",
       "        text-align: right;\n",
       "    }\n",
       "</style>\n",
       "<table border=\"1\" class=\"dataframe\">\n",
       "  <thead>\n",
       "    <tr style=\"text-align: right;\">\n",
       "      <th></th>\n",
       "      <th>country</th>\n",
       "      <th>age</th>\n",
       "      <th>new_user</th>\n",
       "      <th>source</th>\n",
       "      <th>total_pages_visited</th>\n",
       "      <th>converted</th>\n",
       "    </tr>\n",
       "  </thead>\n",
       "  <tbody>\n",
       "    <tr>\n",
       "      <th>count</th>\n",
       "      <td>284580</td>\n",
       "      <td>284580.000000</td>\n",
       "      <td>284580.000000</td>\n",
       "      <td>284580</td>\n",
       "      <td>284580.000000</td>\n",
       "      <td>284580.000000</td>\n",
       "    </tr>\n",
       "    <tr>\n",
       "      <th>unique</th>\n",
       "      <td>4</td>\n",
       "      <td>NaN</td>\n",
       "      <td>NaN</td>\n",
       "      <td>3</td>\n",
       "      <td>NaN</td>\n",
       "      <td>NaN</td>\n",
       "    </tr>\n",
       "    <tr>\n",
       "      <th>top</th>\n",
       "      <td>US</td>\n",
       "      <td>NaN</td>\n",
       "      <td>NaN</td>\n",
       "      <td>Seo</td>\n",
       "      <td>NaN</td>\n",
       "      <td>NaN</td>\n",
       "    </tr>\n",
       "    <tr>\n",
       "      <th>freq</th>\n",
       "      <td>160124</td>\n",
       "      <td>NaN</td>\n",
       "      <td>NaN</td>\n",
       "      <td>139477</td>\n",
       "      <td>NaN</td>\n",
       "      <td>NaN</td>\n",
       "    </tr>\n",
       "    <tr>\n",
       "      <th>mean</th>\n",
       "      <td>NaN</td>\n",
       "      <td>30.564203</td>\n",
       "      <td>0.685452</td>\n",
       "      <td>NaN</td>\n",
       "      <td>4.873252</td>\n",
       "      <td>0.032258</td>\n",
       "    </tr>\n",
       "    <tr>\n",
       "      <th>std</th>\n",
       "      <td>NaN</td>\n",
       "      <td>8.266789</td>\n",
       "      <td>0.464336</td>\n",
       "      <td>NaN</td>\n",
       "      <td>3.341995</td>\n",
       "      <td>0.176685</td>\n",
       "    </tr>\n",
       "    <tr>\n",
       "      <th>min</th>\n",
       "      <td>NaN</td>\n",
       "      <td>17.000000</td>\n",
       "      <td>0.000000</td>\n",
       "      <td>NaN</td>\n",
       "      <td>1.000000</td>\n",
       "      <td>0.000000</td>\n",
       "    </tr>\n",
       "    <tr>\n",
       "      <th>25%</th>\n",
       "      <td>NaN</td>\n",
       "      <td>24.000000</td>\n",
       "      <td>0.000000</td>\n",
       "      <td>NaN</td>\n",
       "      <td>2.000000</td>\n",
       "      <td>0.000000</td>\n",
       "    </tr>\n",
       "    <tr>\n",
       "      <th>50%</th>\n",
       "      <td>NaN</td>\n",
       "      <td>30.000000</td>\n",
       "      <td>1.000000</td>\n",
       "      <td>NaN</td>\n",
       "      <td>4.000000</td>\n",
       "      <td>0.000000</td>\n",
       "    </tr>\n",
       "    <tr>\n",
       "      <th>75%</th>\n",
       "      <td>NaN</td>\n",
       "      <td>36.000000</td>\n",
       "      <td>1.000000</td>\n",
       "      <td>NaN</td>\n",
       "      <td>7.000000</td>\n",
       "      <td>0.000000</td>\n",
       "    </tr>\n",
       "    <tr>\n",
       "      <th>max</th>\n",
       "      <td>NaN</td>\n",
       "      <td>123.000000</td>\n",
       "      <td>1.000000</td>\n",
       "      <td>NaN</td>\n",
       "      <td>29.000000</td>\n",
       "      <td>1.000000</td>\n",
       "    </tr>\n",
       "  </tbody>\n",
       "</table>\n",
       "</div>"
      ],
      "text/plain": [
       "       country            age       new_user  source  total_pages_visited  \\\n",
       "count   284580  284580.000000  284580.000000  284580        284580.000000   \n",
       "unique       4            NaN            NaN       3                  NaN   \n",
       "top         US            NaN            NaN     Seo                  NaN   \n",
       "freq    160124            NaN            NaN  139477                  NaN   \n",
       "mean       NaN      30.564203       0.685452     NaN             4.873252   \n",
       "std        NaN       8.266789       0.464336     NaN             3.341995   \n",
       "min        NaN      17.000000       0.000000     NaN             1.000000   \n",
       "25%        NaN      24.000000       0.000000     NaN             2.000000   \n",
       "50%        NaN      30.000000       1.000000     NaN             4.000000   \n",
       "75%        NaN      36.000000       1.000000     NaN             7.000000   \n",
       "max        NaN     123.000000       1.000000     NaN            29.000000   \n",
       "\n",
       "            converted  \n",
       "count   284580.000000  \n",
       "unique            NaN  \n",
       "top               NaN  \n",
       "freq              NaN  \n",
       "mean         0.032258  \n",
       "std          0.176685  \n",
       "min          0.000000  \n",
       "25%          0.000000  \n",
       "50%          0.000000  \n",
       "75%          0.000000  \n",
       "max          1.000000  "
      ]
     },
     "metadata": {},
     "output_type": "display_data"
    }
   ],
   "source": [
    "# Basics statistics:\n",
    "data_desc = data.describe(include='all')\n",
    "display(data_desc)"
   ]
  },
  {
   "cell_type": "code",
   "execution_count": 6,
   "metadata": {},
   "outputs": [
    {
     "data": {
      "text/plain": [
       "country                0\n",
       "age                    0\n",
       "new_user               0\n",
       "source                 0\n",
       "total_pages_visited    0\n",
       "converted              0\n",
       "dtype: int64"
      ]
     },
     "execution_count": 6,
     "metadata": {},
     "output_type": "execute_result"
    }
   ],
   "source": [
    "# Checking missing values\n",
    "data.isnull().sum()"
   ]
  },
  {
   "cell_type": "markdown",
   "metadata": {
    "colab_type": "text",
    "id": "0XwjKBc63B1n"
   },
   "source": [
    "# Explore dataset"
   ]
  },
  {
   "cell_type": "code",
   "execution_count": 7,
   "metadata": {
    "colab": {},
    "colab_type": "code",
    "id": "NM0feCss5sLZ"
   },
   "outputs": [],
   "source": [
    "# The dataset is quite big : you must create a sample of the dataset before making any visualizations !\n",
    "data_sample = data.sample(10000)"
   ]
  },
  {
   "cell_type": "code",
   "execution_count": 8,
   "metadata": {},
   "outputs": [
    {
     "data": {
      "text/html": [
       "<div>\n",
       "<style scoped>\n",
       "    .dataframe tbody tr th:only-of-type {\n",
       "        vertical-align: middle;\n",
       "    }\n",
       "\n",
       "    .dataframe tbody tr th {\n",
       "        vertical-align: top;\n",
       "    }\n",
       "\n",
       "    .dataframe thead tr th {\n",
       "        text-align: left;\n",
       "    }\n",
       "\n",
       "    .dataframe thead tr:last-of-type th {\n",
       "        text-align: right;\n",
       "    }\n",
       "</style>\n",
       "<table border=\"1\" class=\"dataframe\">\n",
       "  <thead>\n",
       "    <tr>\n",
       "      <th></th>\n",
       "      <th colspan=\"3\" halign=\"left\">age</th>\n",
       "    </tr>\n",
       "    <tr>\n",
       "      <th></th>\n",
       "      <th>mean</th>\n",
       "      <th>min</th>\n",
       "      <th>max</th>\n",
       "    </tr>\n",
       "    <tr>\n",
       "      <th>new_user</th>\n",
       "      <th></th>\n",
       "      <th></th>\n",
       "      <th></th>\n",
       "    </tr>\n",
       "  </thead>\n",
       "  <tbody>\n",
       "    <tr>\n",
       "      <th>0</th>\n",
       "      <td>30.426837</td>\n",
       "      <td>17</td>\n",
       "      <td>62</td>\n",
       "    </tr>\n",
       "    <tr>\n",
       "      <th>1</th>\n",
       "      <td>30.704221</td>\n",
       "      <td>17</td>\n",
       "      <td>66</td>\n",
       "    </tr>\n",
       "  </tbody>\n",
       "</table>\n",
       "</div>"
      ],
      "text/plain": [
       "                age        \n",
       "               mean min max\n",
       "new_user                   \n",
       "0         30.426837  17  62\n",
       "1         30.704221  17  66"
      ]
     },
     "execution_count": 8,
     "metadata": {},
     "output_type": "execute_result"
    }
   ],
   "source": [
    "data_sample[['new_user','age']].groupby('new_user').agg(['mean','min','max'])"
   ]
  },
  {
   "cell_type": "code",
   "execution_count": 9,
   "metadata": {},
   "outputs": [
    {
     "data": {
      "text/html": [
       "<div>\n",
       "<style scoped>\n",
       "    .dataframe tbody tr th:only-of-type {\n",
       "        vertical-align: middle;\n",
       "    }\n",
       "\n",
       "    .dataframe tbody tr th {\n",
       "        vertical-align: top;\n",
       "    }\n",
       "\n",
       "    .dataframe thead tr th {\n",
       "        text-align: left;\n",
       "    }\n",
       "\n",
       "    .dataframe thead tr:last-of-type th {\n",
       "        text-align: right;\n",
       "    }\n",
       "</style>\n",
       "<table border=\"1\" class=\"dataframe\">\n",
       "  <thead>\n",
       "    <tr>\n",
       "      <th></th>\n",
       "      <th colspan=\"2\" halign=\"left\">total_pages_visited</th>\n",
       "    </tr>\n",
       "    <tr>\n",
       "      <th></th>\n",
       "      <th>mean</th>\n",
       "      <th>count</th>\n",
       "    </tr>\n",
       "    <tr>\n",
       "      <th>converted</th>\n",
       "      <th></th>\n",
       "      <th></th>\n",
       "    </tr>\n",
       "  </thead>\n",
       "  <tbody>\n",
       "    <tr>\n",
       "      <th>0</th>\n",
       "      <td>4.559476</td>\n",
       "      <td>9693</td>\n",
       "    </tr>\n",
       "    <tr>\n",
       "      <th>1</th>\n",
       "      <td>14.530945</td>\n",
       "      <td>307</td>\n",
       "    </tr>\n",
       "  </tbody>\n",
       "</table>\n",
       "</div>"
      ],
      "text/plain": [
       "          total_pages_visited      \n",
       "                         mean count\n",
       "converted                          \n",
       "0                    4.559476  9693\n",
       "1                   14.530945   307"
      ]
     },
     "execution_count": 9,
     "metadata": {},
     "output_type": "execute_result"
    }
   ],
   "source": [
    "data_sample[['converted','total_pages_visited']].groupby('converted').agg(['mean','count'])"
   ]
  },
  {
   "cell_type": "code",
   "execution_count": 10,
   "metadata": {},
   "outputs": [
    {
     "data": {
      "text/html": [
       "<div>\n",
       "<style scoped>\n",
       "    .dataframe tbody tr th:only-of-type {\n",
       "        vertical-align: middle;\n",
       "    }\n",
       "\n",
       "    .dataframe tbody tr th {\n",
       "        vertical-align: top;\n",
       "    }\n",
       "\n",
       "    .dataframe thead tr th {\n",
       "        text-align: left;\n",
       "    }\n",
       "\n",
       "    .dataframe thead tr:last-of-type th {\n",
       "        text-align: right;\n",
       "    }\n",
       "</style>\n",
       "<table border=\"1\" class=\"dataframe\">\n",
       "  <thead>\n",
       "    <tr>\n",
       "      <th></th>\n",
       "      <th>converted</th>\n",
       "    </tr>\n",
       "    <tr>\n",
       "      <th></th>\n",
       "      <th>count</th>\n",
       "    </tr>\n",
       "    <tr>\n",
       "      <th>source</th>\n",
       "      <th></th>\n",
       "    </tr>\n",
       "  </thead>\n",
       "  <tbody>\n",
       "    <tr>\n",
       "      <th>Ads</th>\n",
       "      <td>2854</td>\n",
       "    </tr>\n",
       "    <tr>\n",
       "      <th>Direct</th>\n",
       "      <td>2258</td>\n",
       "    </tr>\n",
       "    <tr>\n",
       "      <th>Seo</th>\n",
       "      <td>4888</td>\n",
       "    </tr>\n",
       "  </tbody>\n",
       "</table>\n",
       "</div>"
      ],
      "text/plain": [
       "       converted\n",
       "           count\n",
       "source          \n",
       "Ads         2854\n",
       "Direct      2258\n",
       "Seo         4888"
      ]
     },
     "execution_count": 10,
     "metadata": {},
     "output_type": "execute_result"
    }
   ],
   "source": [
    "data_sample[['source','converted']].groupby('source').agg(['count'])"
   ]
  },
  {
   "cell_type": "code",
   "execution_count": 11,
   "metadata": {},
   "outputs": [
    {
     "data": {
      "image/png": "[encoded data removed]",
      "text/plain": [
       "<Figure size 360x360 with 1 Axes>"
      ]
     },
     "metadata": {
      "needs_background": "light"
     },
     "output_type": "display_data"
    },
    {
     "data": {
      "image/png": "[encoded data removed]",
      "text/plain": [
       "<Figure size 360x360 with 1 Axes>"
      ]
     },
     "metadata": {
      "needs_background": "light"
     },
     "output_type": "display_data"
    },
    {
     "data": {
      "image/png": "[encoded data removed]",
      "text/plain": [
       "<Figure size 360x360 with 1 Axes>"
      ]
     },
     "metadata": {
      "needs_background": "light"
     },
     "output_type": "display_data"
    }
   ],
   "source": [
    "# By 'country'\n",
    "\n",
    "plt.figure(figsize = (5,5))\n",
    "sns.countplot(x='country', data=data_sample, hue='new_user', palette=\"magma\")\n",
    "plt.xlabel('country')\n",
    "plt.ylabel('new_users')\n",
    "plt.title('country by users')\n",
    "plt.show()\n",
    "\n",
    "plt.figure(figsize = (5,5))\n",
    "sns.countplot(x='country', data=data_sample, hue='source', palette=\"magma\")\n",
    "plt.xlabel('country')\n",
    "plt.ylabel('source')\n",
    "plt.title('country by source')\n",
    "plt.show()\n",
    "\n",
    "plt.figure(figsize = (5,5))\n",
    "sns.countplot(x='country', data=data_sample, hue='converted', palette=\"magma\")\n",
    "plt.xlabel('country')\n",
    "plt.ylabel('converted')\n",
    "plt.title('country by convertion')\n",
    "plt.show()"
   ]
  },
  {
   "cell_type": "code",
   "execution_count": 12,
   "metadata": {},
   "outputs": [
    {
     "data": {
      "image/png": "[encoded data removed]",
      "text/plain": [
       "<Figure size 1080x360 with 1 Axes>"
      ]
     },
     "metadata": {
      "needs_background": "light"
     },
     "output_type": "display_data"
    },
    {
     "data": {
      "text/plain": [
       "<Figure size 432x288 with 0 Axes>"
      ]
     },
     "metadata": {},
     "output_type": "display_data"
    },
    {
     "data": {
      "image/png": "[encoded data removed]",
      "text/plain": [
       "<Figure size 595.44x595.44 with 1 Axes>"
      ]
     },
     "metadata": {
      "needs_background": "light"
     },
     "output_type": "display_data"
    },
    {
     "data": {
      "image/png": "[encoded data removed]",
      "text/plain": [
       "<Figure size 1080x360 with 1 Axes>"
      ]
     },
     "metadata": {
      "needs_background": "light"
     },
     "output_type": "display_data"
    },
    {
     "data": {
      "image/png": "[encoded data removed]",
      "text/plain": [
       "<Figure size 1080x360 with 1 Axes>"
      ]
     },
     "metadata": {
      "needs_background": "light"
     },
     "output_type": "display_data"
    },
    {
     "data": {
      "image/png": "[encoded data removed]",
      "text/plain": [
       "<Figure size 1080x360 with 1 Axes>"
      ]
     },
     "metadata": {
      "needs_background": "light"
     },
     "output_type": "display_data"
    }
   ],
   "source": [
    "# By 'age'\n",
    "\n",
    "plt.figure(figsize = (15,5))\n",
    "sns.countplot(x='age', data=data_sample, hue='country', palette=\"magma\")\n",
    "plt.xlabel('age')\n",
    "plt.ylabel('country')\n",
    "plt.title('age by country')\n",
    "plt.show()\n",
    "\n",
    "plt.figure()\n",
    "sns.catplot(x=\"age\", data=data_sample, y=\"total_pages_visited\", kind=\"bar\", palette=\"magma\", height=8.27)\n",
    "plt.xlabel('age')\n",
    "plt.ylabel('total_pages_visited')\n",
    "plt.title('age by total_pages_visited')\n",
    "plt.show()\n",
    "\n",
    "plt.figure(figsize = (15,5))\n",
    "sns.countplot(x='age', data=data_sample, hue='new_user', palette=\"magma\")\n",
    "plt.xlabel('age')\n",
    "plt.ylabel('new_users')\n",
    "plt.title('age by users')\n",
    "plt.show()\n",
    "\n",
    "plt.figure(figsize = (15,5))\n",
    "sns.countplot(x='age', data=data_sample, hue='source', palette=\"magma\")\n",
    "plt.xlabel('age')\n",
    "plt.ylabel('source')\n",
    "plt.title('age by source')\n",
    "plt.show()\n",
    "\n",
    "plt.figure(figsize = (15,5))\n",
    "sns.countplot(x='age', data=data_sample, hue='converted', palette=\"magma\")\n",
    "plt.xlabel('age')\n",
    "plt.ylabel('converted')\n",
    "plt.title('age by convertion')\n",
    "plt.show()"
   ]
  },
  {
   "cell_type": "code",
   "execution_count": 13,
   "metadata": {},
   "outputs": [
    {
     "data": {
      "image/png": "[encoded data removed]",
      "text/plain": [
       "<Figure size 360x360 with 1 Axes>"
      ]
     },
     "metadata": {
      "needs_background": "light"
     },
     "output_type": "display_data"
    },
    {
     "data": {
      "image/png": "[encoded data removed]",
      "text/plain": [
       "<Figure size 360x360 with 1 Axes>"
      ]
     },
     "metadata": {
      "needs_background": "light"
     },
     "output_type": "display_data"
    },
    {
     "data": {
      "image/png": "[encoded data removed]",
      "text/plain": [
       "<Figure size 360x360 with 1 Axes>"
      ]
     },
     "metadata": {
      "needs_background": "light"
     },
     "output_type": "display_data"
    }
   ],
   "source": [
    "# By 'new_user'\n",
    "\n",
    "plt.figure(figsize = (5,5))\n",
    "sns.countplot(x='new_user', data=data_sample, hue='country', palette=\"magma\")\n",
    "plt.xlabel('new_user')\n",
    "plt.ylabel('country')\n",
    "plt.title('new_user by country')\n",
    "plt.show()\n",
    "\n",
    "plt.figure(figsize = (5,5))\n",
    "sns.countplot(x='new_user', data=data_sample, hue='source', palette=\"magma\")\n",
    "plt.xlabel('new_user')\n",
    "plt.ylabel('source')\n",
    "plt.title('new_user by source')\n",
    "plt.show()\n",
    "\n",
    "plt.figure(figsize = (5,5))\n",
    "sns.countplot(x='new_user', data=data_sample, hue='converted', palette=\"magma\")\n",
    "plt.xlabel('new_user')\n",
    "plt.ylabel('converted')\n",
    "plt.title('new_user by convertion')\n",
    "plt.show()"
   ]
  },
  {
   "cell_type": "code",
   "execution_count": 14,
   "metadata": {},
   "outputs": [
    {
     "data": {
      "image/png": "[encoded data removed]",
      "text/plain": [
       "<Figure size 360x360 with 1 Axes>"
      ]
     },
     "metadata": {
      "needs_background": "light"
     },
     "output_type": "display_data"
    },
    {
     "data": {
      "image/png": "[encoded data removed]",
      "text/plain": [
       "<Figure size 360x360 with 1 Axes>"
      ]
     },
     "metadata": {
      "needs_background": "light"
     },
     "output_type": "display_data"
    },
    {
     "data": {
      "image/png": "[encoded data removed]",
      "text/plain": [
       "<Figure size 360x360 with 1 Axes>"
      ]
     },
     "metadata": {
      "needs_background": "light"
     },
     "output_type": "display_data"
    }
   ],
   "source": [
    "# By 'source' \n",
    "# Seo = Organic search from search engine\n",
    "# Ads = Paid Search from key word campaign\n",
    "# Direct = Direct access via url\n",
    "\n",
    "plt.figure(figsize = (5,5))\n",
    "sns.countplot(x='source', data=data_sample, hue='country', palette=\"magma\")\n",
    "plt.xlabel('source')\n",
    "plt.ylabel('country')\n",
    "plt.title('source by country')\n",
    "plt.show()\n",
    "\n",
    "plt.figure(figsize = (5,5))\n",
    "sns.countplot(x='source', data=data_sample, hue='new_user', palette=\"magma\")\n",
    "plt.xlabel('source')\n",
    "plt.ylabel('new_users')\n",
    "plt.title('source by users')\n",
    "plt.show()\n",
    "\n",
    "plt.figure(figsize = (5,5))\n",
    "sns.countplot(x='source', data=data_sample, hue='converted', palette=\"magma\")\n",
    "plt.xlabel('source')\n",
    "plt.ylabel('converted')\n",
    "plt.title('source by convertion')\n",
    "plt.show()"
   ]
  },
  {
   "cell_type": "code",
   "execution_count": 15,
   "metadata": {},
   "outputs": [
    {
     "data": {
      "image/png": "[encoded data removed]",
      "text/plain": [
       "<Figure size 1080x360 with 1 Axes>"
      ]
     },
     "metadata": {
      "needs_background": "light"
     },
     "output_type": "display_data"
    },
    {
     "data": {
      "text/plain": [
       "<Figure size 432x288 with 0 Axes>"
      ]
     },
     "metadata": {},
     "output_type": "display_data"
    },
    {
     "data": {
      "image/png": "[encoded data removed]",
      "text/plain": [
       "<Figure size 595.44x595.44 with 1 Axes>"
      ]
     },
     "metadata": {
      "needs_background": "light"
     },
     "output_type": "display_data"
    },
    {
     "data": {
      "image/png": "[encoded data removed]",
      "text/plain": [
       "<Figure size 1080x360 with 1 Axes>"
      ]
     },
     "metadata": {
      "needs_background": "light"
     },
     "output_type": "display_data"
    },
    {
     "data": {
      "image/png": "[encoded data removed]",
      "text/plain": [
       "<Figure size 1080x360 with 1 Axes>"
      ]
     },
     "metadata": {
      "needs_background": "light"
     },
     "output_type": "display_data"
    },
    {
     "data": {
      "image/png": "[encoded data removed]",
      "text/plain": [
       "<Figure size 1080x360 with 1 Axes>"
      ]
     },
     "metadata": {
      "needs_background": "light"
     },
     "output_type": "display_data"
    }
   ],
   "source": [
    "# By 'total_pages_visited'\n",
    "\n",
    "plt.figure(figsize = (15,5))\n",
    "sns.countplot(x='total_pages_visited', data=data_sample, hue='country', palette=\"magma\")\n",
    "plt.xlabel('total_pages_visited')\n",
    "plt.ylabel('country')\n",
    "plt.title('total_pages_visited by country')\n",
    "plt.show()\n",
    "\n",
    "plt.figure()\n",
    "sns.catplot(x=\"total_pages_visited\", data=data_sample, y=\"age\", kind=\"bar\", palette=\"magma\", height=8.27)\n",
    "plt.xlabel('total_pages_visited')\n",
    "plt.ylabel('age')\n",
    "plt.title('total_pages_visited by age')\n",
    "plt.show()\n",
    "\n",
    "plt.figure(figsize = (15,5))\n",
    "sns.countplot(x='total_pages_visited', data=data_sample, hue='new_user', palette=\"magma\")\n",
    "plt.xlabel('total_pages_visited')\n",
    "plt.ylabel('new_users')\n",
    "plt.title('total_pages_visited by users')\n",
    "plt.show()\n",
    "\n",
    "plt.figure(figsize = (15,5))\n",
    "sns.countplot(x='total_pages_visited', data=data_sample, hue='source', palette=\"magma\")\n",
    "plt.xlabel('total_pages_visited')\n",
    "plt.ylabel('source')\n",
    "plt.title('total_pages_visited by source')\n",
    "plt.show()\n",
    "\n",
    "plt.figure(figsize = (15,5))\n",
    "sns.countplot(x='total_pages_visited', data=data_sample, hue='converted', palette=\"magma\")\n",
    "plt.xlabel('total_pages_visited')\n",
    "plt.ylabel('converted')\n",
    "plt.title('total_pages_visited by convertion')\n",
    "plt.show()"
   ]
  },
  {
   "cell_type": "code",
   "execution_count": 16,
   "metadata": {},
   "outputs": [
    {
     "data": {
      "image/png": "[encoded data removed]",
      "text/plain": [
       "<Figure size 360x360 with 1 Axes>"
      ]
     },
     "metadata": {
      "needs_background": "light"
     },
     "output_type": "display_data"
    },
    {
     "data": {
      "image/png": "[encoded data removed]",
      "text/plain": [
       "<Figure size 360x360 with 1 Axes>"
      ]
     },
     "metadata": {
      "needs_background": "light"
     },
     "output_type": "display_data"
    },
    {
     "data": {
      "image/png": "[encoded data removed]",
      "text/plain": [
       "<Figure size 360x360 with 1 Axes>"
      ]
     },
     "metadata": {
      "needs_background": "light"
     },
     "output_type": "display_data"
    }
   ],
   "source": [
    "# By 'converted'\n",
    "\n",
    "plt.figure(figsize = (5,5))\n",
    "sns.countplot(x='converted', data=data_sample, hue='country', palette=\"magma\")\n",
    "plt.xlabel('converted')\n",
    "plt.ylabel('country')\n",
    "plt.title('converted by country')\n",
    "plt.show()\n",
    "\n",
    "plt.figure(figsize = (5,5))\n",
    "sns.countplot(x='converted', data=data_sample, hue='new_user', palette=\"magma\")\n",
    "plt.xlabel('converted')\n",
    "plt.ylabel('new_users')\n",
    "plt.title('converted by users')\n",
    "plt.show()\n",
    "\n",
    "plt.figure(figsize = (5,5))\n",
    "sns.countplot(x='converted', data=data_sample, hue='source', palette=\"magma\")\n",
    "plt.xlabel('converted')\n",
    "plt.ylabel('source')\n",
    "plt.title('converted by source')\n",
    "plt.show()"
   ]
  },
  {
   "cell_type": "code",
   "execution_count": 17,
   "metadata": {},
   "outputs": [
    {
     "data": {
      "text/plain": [
       "1    5621\n",
       "2    2466\n",
       "4    1478\n",
       "3     435\n",
       "Name: country, dtype: int64"
      ]
     },
     "execution_count": 17,
     "metadata": {},
     "output_type": "execute_result"
    }
   ],
   "source": [
    "# Rename 'country' (for correlation map)\n",
    "data_sample['country'] = data_sample.country.map({\n",
    "                 \"US\":1,\"China\":2, \"Germany\":3,\"UK\":4,}).fillna(data_sample.country)\n",
    "data_sample.country.value_counts(dropna=False)"
   ]
  },
  {
   "cell_type": "code",
   "execution_count": 18,
   "metadata": {},
   "outputs": [
    {
     "data": {
      "text/plain": [
       "1    4888\n",
       "2    2854\n",
       "3    2258\n",
       "Name: source, dtype: int64"
      ]
     },
     "execution_count": 18,
     "metadata": {},
     "output_type": "execute_result"
    }
   ],
   "source": [
    "# Rename 'source' (for correlation map)\n",
    "data_sample['source'] = data_sample.source.map({\n",
    "                 \"Seo\":1,\"Ads\":2, \"Direct\":3}).fillna(data_sample.country)\n",
    "data_sample.source.value_counts(dropna=False)"
   ]
  },
  {
   "cell_type": "code",
   "execution_count": 19,
   "metadata": {},
   "outputs": [
    {
     "data": {
      "image/svg+xml": [
       "<svg class=\"main-svg\" xmlns=\"http://www.w3.org/2000/svg\" xmlns:xlink=\"http://www.w3.org/1999/xlink\" width=\"800\" height=\"500\" style=\"\" viewBox=\"0 0 800 500\"><rect x=\"0\" y=\"0\" width=\"800\" height=\"500\" style=\"fill: rgb(255, 255, 255); fill-opacity: 1;\"/><defs id=\"defs-229dea\"><g class=\"clips\"><clipPath id=\"clip229deaxyplot\" class=\"plotclip\"><rect width=\"621\" height=\"320\"/></clipPath><clipPath class=\"axesclip\" id=\"clip229deax\"><rect x=\"80\" y=\"0\" width=\"621\" height=\"500\"/></clipPath><clipPath class=\"axesclip\" id=\"clip229deay\"><rect x=\"0\" y=\"100\" width=\"800\" height=\"320\"/></clipPath><clipPath class=\"axesclip\" id=\"clip229deaxy\"><rect x=\"80\" y=\"100\" width=\"621\" height=\"320\"/></clipPath></g><g class=\"gradients\"><linearGradient x1=\"0\" x2=\"0\" y1=\"1\" y2=\"0\" id=\"g229dea-cb6298f6\"><stop offset=\"0%\" stop-color=\"rgb(0, 0, 4)\" stop-opacity=\"1\"/><stop offset=\"11.111111%\" stop-color=\"rgb(24, 15, 61)\" stop-opacity=\"1\"/><stop offset=\"22.222222%\" stop-color=\"rgb(68, 15, 118)\" stop-opacity=\"1\"/><stop offset=\"33.333333%\" stop-color=\"rgb(114, 31, 129)\" stop-opacity=\"1\"/><stop offset=\"44.444444%\" stop-color=\"rgb(158, 47, 127)\" stop-opacity=\"1\"/><stop offset=\"55.555556%\" stop-color=\"rgb(205, 64, 113)\" stop-opacity=\"1\"/><stop offset=\"66.666667%\" stop-color=\"rgb(241, 96, 93)\" stop-opacity=\"1\"/><stop offset=\"77.777778%\" stop-color=\"rgb(253, 150, 104)\" stop-opacity=\"1\"/><stop offset=\"88.888889%\" stop-color=\"rgb(254, 202, 141)\" stop-opacity=\"1\"/><stop offset=\"100%\" stop-color=\"rgb(252, 253, 191)\" stop-opacity=\"1\"/></linearGradient></g><g class=\"patterns\"/></defs><g class=\"bglayer\"><rect class=\"bg\" x=\"80\" y=\"100\" width=\"621\" height=\"320\" style=\"fill: rgb(255, 255, 255); fill-opacity: 1; stroke-width: 0;\"/></g><g class=\"layer-below\"><g class=\"imagelayer\"/><g class=\"shapelayer\"/></g><g class=\"cartesianlayer\"><g class=\"subplot xy\"><g class=\"layer-subplot\"><g class=\"shapelayer\"/><g class=\"imagelayer\"/></g><g class=\"gridlayer\"><g class=\"x\"><path class=\"xgrid crisp\" transform=\"translate(131.75,0)\" d=\"M0,100v320\" style=\"stroke: rgb(238, 238, 238); stroke-opacity: 1; stroke-width: 1px;\"/><path class=\"xgrid crisp\" transform=\"translate(235.25,0)\" d=\"M0,100v320\" style=\"stroke: rgb(238, 238, 238); stroke-opacity: 1; stroke-width: 1px;\"/><path class=\"xgrid crisp\" transform=\"translate(338.75,0)\" d=\"M0,100v320\" style=\"stroke: rgb(238, 238, 238); stroke-opacity: 1; stroke-width: 1px;\"/><path class=\"xgrid crisp\" transform=\"translate(442.25,0)\" d=\"M0,100v320\" style=\"stroke: rgb(238, 238, 238); stroke-opacity: 1; stroke-width: 1px;\"/><path class=\"xgrid crisp\" transform=\"translate(545.75,0)\" d=\"M0,100v320\" style=\"stroke: rgb(238, 238, 238); stroke-opacity: 1; stroke-width: 1px;\"/><path class=\"xgrid crisp\" transform=\"translate(649.25,0)\" d=\"M0,100v320\" style=\"stroke: rgb(238, 238, 238); stroke-opacity: 1; stroke-width: 1px;\"/></g><g class=\"y\"><path class=\"ygrid crisp\" transform=\"translate(0,393.33)\" d=\"M80,0h621\" style=\"stroke: rgb(238, 238, 238); stroke-opacity: 1; stroke-width: 1px;\"/><path class=\"ygrid crisp\" transform=\"translate(0,340)\" d=\"M80,0h621\" style=\"stroke: rgb(238, 238, 238); stroke-opacity: 1; stroke-width: 1px;\"/><path class=\"ygrid crisp\" transform=\"translate(0,286.66999999999996)\" d=\"M80,0h621\" style=\"stroke: rgb(238, 238, 238); stroke-opacity: 1; stroke-width: 1px;\"/><path class=\"ygrid crisp\" transform=\"translate(0,233.33)\" d=\"M80,0h621\" style=\"stroke: rgb(238, 238, 238); stroke-opacity: 1; stroke-width: 1px;\"/><path class=\"ygrid crisp\" transform=\"translate(0,180)\" d=\"M80,0h621\" style=\"stroke: rgb(238, 238, 238); stroke-opacity: 1; stroke-width: 1px;\"/><path class=\"ygrid crisp\" transform=\"translate(0,126.67)\" d=\"M80,0h621\" style=\"stroke: rgb(238, 238, 238); stroke-opacity: 1; stroke-width: 1px;\"/></g></g><g class=\"zerolinelayer\"/><path class=\"xlines-below\"/><path class=\"ylines-below\"/><g class=\"overlines-below\"/><g class=\"xaxislayer-below\"/><g class=\"yaxislayer-below\"/><g class=\"overaxes-below\"/><g class=\"plot\" transform=\"translate(80,100)\" clip-path=\"url(#clip229deaxyplot)\"><g class=\"heatmaplayer mlayer\"><g class=\"hm\"><image xmlns=\"http://www.w3.org/2000/svg\" preserveAspectRatio=\"none\" height=\"320\" width=\"621\" x=\"0\" y=\"0\" xlink:href=\"data:image/png;base64,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\" style=\"opacity: 1;\"/></g></g></g><g class=\"overplot\"/><path class=\"xlines-above crisp\" d=\"\" style=\"fill: none; stroke-width: 1px; stroke: rgb(0, 0, 0); stroke-opacity: 0;\"/><path class=\"ylines-above crisp\" d=\"\" style=\"fill: none; stroke-width: 1px; stroke: rgb(0, 0, 0); stroke-opacity: 0;\"/><g class=\"overlines-above\"/><g class=\"xaxislayer-above\"><path class=\"xtick ticks crisp\" d=\"M0,421v5\" transform=\"translate(131.75,0)\" style=\"stroke: rgb(68, 68, 68); stroke-opacity: 1; stroke-width: 1px;\"/><path class=\"xtick ticks crisp\" d=\"M0,421v5\" transform=\"translate(235.25,0)\" style=\"stroke: rgb(68, 68, 68); stroke-opacity: 1; stroke-width: 1px;\"/><path class=\"xtick ticks crisp\" d=\"M0,421v5\" transform=\"translate(338.75,0)\" style=\"stroke: rgb(68, 68, 68); stroke-opacity: 1; stroke-width: 1px;\"/><path class=\"xtick ticks crisp\" d=\"M0,421v5\" transform=\"translate(442.25,0)\" style=\"stroke: rgb(68, 68, 68); stroke-opacity: 1; stroke-width: 1px;\"/><path class=\"xtick ticks crisp\" d=\"M0,421v5\" transform=\"translate(545.75,0)\" style=\"stroke: rgb(68, 68, 68); stroke-opacity: 1; stroke-width: 1px;\"/><path class=\"xtick ticks crisp\" d=\"M0,421v5\" transform=\"translate(649.25,0)\" style=\"stroke: rgb(68, 68, 68); stroke-opacity: 1; stroke-width: 1px;\"/><g class=\"xtick\"><text text-anchor=\"middle\" x=\"0\" y=\"440.4\" transform=\"translate(131.75,0)\" style=\"font-family: 'Open Sans', verdana, arial, sans-serif; font-size: 12px; fill: rgb(0, 0, 0); fill-opacity: 1; white-space: pre; opacity: 1;\">country</text></g><g class=\"xtick\"><text text-anchor=\"middle\" x=\"0\" y=\"440.4\" transform=\"translate(235.25,0)\" style=\"font-family: 'Open Sans', verdana, arial, sans-serif; font-size: 12px; fill: rgb(0, 0, 0); fill-opacity: 1; white-space: pre; opacity: 1;\">age</text></g><g class=\"xtick\"><text text-anchor=\"middle\" x=\"0\" y=\"440.4\" transform=\"translate(338.75,0)\" style=\"font-family: 'Open Sans', verdana, arial, sans-serif; font-size: 12px; fill: rgb(0, 0, 0); fill-opacity: 1; white-space: pre; opacity: 1;\">new_user</text></g><g class=\"xtick\"><text text-anchor=\"middle\" x=\"0\" y=\"440.4\" transform=\"translate(442.25,0)\" style=\"font-family: 'Open Sans', verdana, arial, sans-serif; font-size: 12px; fill: rgb(0, 0, 0); fill-opacity: 1; white-space: pre; opacity: 1;\">source</text></g><g class=\"xtick\"><text text-anchor=\"middle\" x=\"0\" y=\"440.4\" transform=\"translate(545.75,0)\" style=\"font-family: 'Open Sans', verdana, arial, sans-serif; font-size: 12px; fill: rgb(0, 0, 0); fill-opacity: 1; white-space: pre; opacity: 1;\">total_pages_visited</text></g><g class=\"xtick\"><text text-anchor=\"middle\" x=\"0\" y=\"440.4\" transform=\"translate(649.25,0)\" style=\"font-family: 'Open Sans', verdana, arial, sans-serif; font-size: 12px; fill: rgb(0, 0, 0); fill-opacity: 1; white-space: pre; opacity: 1;\">converted</text></g></g><g class=\"yaxislayer-above\"><path class=\"ytick ticks crisp\" d=\"M79,0h-5\" transform=\"translate(0,393.33)\" style=\"stroke: rgb(68, 68, 68); stroke-opacity: 1; stroke-width: 1px;\"/><path class=\"ytick ticks crisp\" d=\"M79,0h-5\" transform=\"translate(0,340)\" style=\"stroke: rgb(68, 68, 68); stroke-opacity: 1; stroke-width: 1px;\"/><path class=\"ytick ticks crisp\" d=\"M79,0h-5\" transform=\"translate(0,286.66999999999996)\" style=\"stroke: rgb(68, 68, 68); stroke-opacity: 1; stroke-width: 1px;\"/><path class=\"ytick ticks crisp\" d=\"M79,0h-5\" transform=\"translate(0,233.33)\" style=\"stroke: rgb(68, 68, 68); stroke-opacity: 1; stroke-width: 1px;\"/><path class=\"ytick ticks crisp\" d=\"M79,0h-5\" transform=\"translate(0,180)\" style=\"stroke: rgb(68, 68, 68); stroke-opacity: 1; stroke-width: 1px;\"/><path class=\"ytick ticks crisp\" d=\"M79,0h-5\" transform=\"translate(0,126.67)\" style=\"stroke: rgb(68, 68, 68); stroke-opacity: 1; stroke-width: 1px;\"/><g class=\"ytick\"><text text-anchor=\"end\" x=\"71.6\" y=\"4.199999999999999\" transform=\"translate(0,393.33)\" style=\"font-family: 'Open Sans', verdana, arial, sans-serif; font-size: 12px; fill: rgb(0, 0, 0); fill-opacity: 1; white-space: pre; opacity: 1;\">country</text></g><g class=\"ytick\"><text text-anchor=\"end\" x=\"71.6\" y=\"4.199999999999999\" transform=\"translate(0,340)\" style=\"font-family: 'Open Sans', verdana, arial, sans-serif; font-size: 12px; fill: rgb(0, 0, 0); fill-opacity: 1; white-space: pre; opacity: 1;\">age</text></g><g class=\"ytick\"><text text-anchor=\"end\" x=\"71.6\" y=\"4.199999999999999\" transform=\"translate(0,286.66999999999996)\" style=\"font-family: 'Open Sans', verdana, arial, sans-serif; font-size: 12px; fill: rgb(0, 0, 0); fill-opacity: 1; white-space: pre; opacity: 1;\">new_user</text></g><g class=\"ytick\"><text text-anchor=\"end\" x=\"71.6\" y=\"4.199999999999999\" transform=\"translate(0,233.33)\" style=\"font-family: 'Open Sans', verdana, arial, sans-serif; font-size: 12px; fill: rgb(0, 0, 0); fill-opacity: 1; white-space: pre; opacity: 1;\">source</text></g><g class=\"ytick\"><text text-anchor=\"end\" x=\"71.6\" y=\"4.199999999999999\" transform=\"translate(0,180)\" style=\"font-family: 'Open Sans', verdana, arial, sans-serif; font-size: 12px; fill: rgb(0, 0, 0); fill-opacity: 1; white-space: pre; opacity: 1;\">total_pages_visited</text></g><g class=\"ytick\"><text text-anchor=\"end\" x=\"71.6\" y=\"4.199999999999999\" transform=\"translate(0,126.67)\" style=\"font-family: 'Open Sans', verdana, arial, sans-serif; font-size: 12px; fill: rgb(0, 0, 0); fill-opacity: 1; white-space: pre; opacity: 1;\">converted</text></g></g><g class=\"overaxes-above\"/></g></g><g class=\"polarlayer\"/><g class=\"smithlayer\"/><g class=\"ternarylayer\"/><g class=\"geolayer\"/><g class=\"funnelarealayer\"/><g class=\"pielayer\"/><g class=\"iciclelayer\"/><g class=\"treemaplayer\"/><g class=\"sunburstlayer\"/><g class=\"glimages\"/><defs id=\"topdefs-229dea\"><g class=\"clips\"/></defs><g class=\"layer-above\"><g class=\"imagelayer\"/><g class=\"shapelayer\"/></g><g class=\"infolayer\"><g class=\"cb6298f6 colorbar\" transform=\"translate(80,100)\"><rect class=\"cbbg\" x=\"632.5\" y=\"0\" width=\"75.03125\" height=\"321\" style=\"fill: rgb(0, 0, 0); fill-opacity: 0; stroke: rgb(68, 68, 68); stroke-opacity: 1; stroke-width: 0;\"/><g class=\"cbfills\" transform=\"translate(0,10)\"><rect class=\"cbfill\" x=\"643\" y=\"0\" width=\"30\" height=\"300\" style=\"fill: url('#g229dea-cb6298f6');\"/></g><g class=\"cblines\" transform=\"translate(0,10)\"/><g class=\"cbaxis crisp\" transform=\"translate(0,-100)\"><g class=\"ycb6298f6tick\"><text text-anchor=\"start\" x=\"676.4\" y=\"4.199999999999999\" transform=\"translate(0,410)\" style=\"font-family: 'Open Sans', verdana, arial, sans-serif; font-size: 12px; fill: rgb(0, 0, 0); fill-opacity: 1; white-space: pre; opacity: 1;\">−1</text></g><g class=\"ycb6298f6tick\"><text text-anchor=\"start\" x=\"676.4\" y=\"4.199999999999999\" style=\"font-family: 'Open Sans', verdana, arial, sans-serif; font-size: 12px; fill: rgb(0, 0, 0); fill-opacity: 1; white-space: pre; opacity: 1;\" transform=\"translate(0,335)\">−0.5</text></g><g class=\"ycb6298f6tick\"><text text-anchor=\"start\" x=\"676.4\" y=\"4.199999999999999\" style=\"font-family: 'Open Sans', verdana, arial, sans-serif; font-size: 12px; fill: rgb(0, 0, 0); fill-opacity: 1; white-space: pre; opacity: 1;\" transform=\"translate(0,260)\">0</text></g><g class=\"ycb6298f6tick\"><text text-anchor=\"start\" x=\"676.4\" y=\"4.199999999999999\" style=\"font-family: 'Open Sans', verdana, arial, sans-serif; font-size: 12px; fill: rgb(0, 0, 0); fill-opacity: 1; white-space: pre; opacity: 1;\" transform=\"translate(0,185)\">0.5</text></g><g class=\"ycb6298f6tick\"><text text-anchor=\"start\" x=\"676.4\" y=\"4.199999999999999\" style=\"font-family: 'Open Sans', verdana, arial, sans-serif; font-size: 12px; fill: rgb(0, 0, 0); fill-opacity: 1; white-space: pre; opacity: 1;\" transform=\"translate(0,110)\">1</text></g></g><g class=\"cbtitleunshift\" transform=\"translate(-80,-100)\"><g class=\"cbtitle\"/></g><rect class=\"cboutline\" x=\"643\" y=\"10\" width=\"30\" height=\"300\" style=\"stroke: rgb(68, 68, 68); stroke-opacity: 1; fill: none; stroke-width: 1;\"/></g><g class=\"g-gtitle\"><text class=\"gtitle\" x=\"400\" y=\"50\" text-anchor=\"middle\" dy=\"0em\" style=\"font-family: 'Open Sans', verdana, arial, sans-serif; font-size: 17px; fill: rgb(0, 0, 0); opacity: 1; font-weight: normal; white-space: pre;\">correlation map</text></g><g class=\"g-xtitle\"/><g class=\"g-ytitle\"/></g></svg>"
      ]
     },
     "metadata": {},
     "output_type": "display_data"
    }
   ],
   "source": [
    "# Correlation map\n",
    "corr_2 = data_sample[['country','age','new_user','source','total_pages_visited','converted']].corr()\n",
    "\n",
    "# Heatmap\n",
    "fig = go.Figure()\n",
    "fig.add_trace(go.Heatmap(\n",
    "    z = corr_2,\n",
    "    x = corr_2.columns.values,\n",
    "    y = corr_2.columns.values,\n",
    "    colorscale = \"magma\",\n",
    "    zmid=0,\n",
    "    ))\n",
    "fig.update_layout(width=800, height=500, paper_bgcolor='white', font_color='black', title='correlation map')\n",
    "fig.show()"
   ]
  },
  {
   "cell_type": "markdown",
   "metadata": {},
   "source": [
    "### Observations:\n",
    "* 'total_pages_visited' is the main driver for convertion\n",
    "* Ranking of users: 1 US - 2 China - 3 Uk - 4 Germany \n",
    "* No converted in China"
   ]
  },
  {
   "cell_type": "markdown",
   "metadata": {
    "colab_type": "text",
    "id": "70MwsoCS3QD5"
   },
   "source": [
    "# Make your model"
   ]
  },
  {
   "cell_type": "markdown",
   "metadata": {
    "colab_type": "text",
    "id": "dPh1qPTf3wZU"
   },
   "source": [
    "## Choose variables to use in the model, and create train and test sets\n",
    "**From the EDA, we know that the most useful feature is total_pages_visited. Let's create a baseline model by using at first only this feature : in the next cells, we'll make preprocessings and train a simple (univariate) logistic regression.**"
   ]
  },
  {
   "cell_type": "code",
   "execution_count": 20,
   "metadata": {
    "colab": {},
    "colab_type": "code",
    "id": "sjEHMGoY3kMB"
   },
   "outputs": [],
   "source": [
    "features_list = ['country','age','new_user','source','total_pages_visited']\n",
    "target_variable = ['converted']\n",
    "\n",
    "numeric_indices = [1,4]\n",
    "categorical_indices = [0,2,3]"
   ]
  },
  {
   "cell_type": "code",
   "execution_count": 21,
   "metadata": {
    "colab": {
     "base_uri": "https://localhost:8080/",
     "height": 50
    },
    "colab_type": "code",
    "id": "SV5E9KMs4xcq",
    "outputId": "9d1ed76e-e82e-45e7-f3e5-6d47962caa5a"
   },
   "outputs": [
    {
     "name": "stdout",
     "output_type": "stream",
     "text": [
      "Explanatory variables :  Index(['country', 'age', 'new_user', 'source', 'total_pages_visited'], dtype='object')\n",
      "Target :  Index(['converted'], dtype='object')\n"
     ]
    }
   ],
   "source": [
    "X = data.loc[:, features_list]\n",
    "Y = data.loc[:, target_variable]\n",
    "\n",
    "print('Explanatory variables : ', X.columns)\n",
    "print('Target : ', Y.columns)"
   ]
  },
  {
   "cell_type": "code",
   "execution_count": 22,
   "metadata": {
    "colab": {
     "base_uri": "https://localhost:8080/",
     "height": 67
    },
    "colab_type": "code",
    "id": "W8K5DQEvvQgl",
    "outputId": "d280ebc9-4d4b-4723-b9fe-32513f898abc"
   },
   "outputs": [
    {
     "name": "stdout",
     "output_type": "stream",
     "text": [
      "Dividing into train and test sets...\n",
      "...Done.\n"
     ]
    }
   ],
   "source": [
    "# Divide dataset Train set & Test set \n",
    "print(\"Dividing into train and test sets...\")\n",
    "X_train, X_test, Y_train, Y_test = train_test_split(X, Y, test_size=0.1, random_state=42)\n",
    "\n",
    "# test_size indicates the proportion of rows from X and Y that will go into the test dataset while \n",
    "# maintaining the correspondance between the rows from X and Y (should be between 0.0 and 1.0)\n",
    "\n",
    "# random_state is an argument that can be found in all functions that have a pseudo-random behaviour\n",
    "# if random_state is not stated the function will derive a different random result everytime the cell \n",
    "# runs, if random_state is given a value the results will be the same everytime the cell runs while\n",
    "# each different value of radom_state will derive a specific result.\n",
    "\n",
    "# random_state=42 is the Answer to the Ultimate Question of Life, the Universe, and Everything. \n",
    "# On a serious note, random_state simply sets a seed to the random generator, so that your train-test splits are always deterministic. \n",
    "# If you don't set a seed, it is different each time.\n",
    "\n",
    "print(\"...Done.\")"
   ]
  },
  {
   "cell_type": "code",
   "execution_count": 23,
   "metadata": {
    "colab": {
     "base_uri": "https://localhost:8080/",
     "height": 218
    },
    "colab_type": "code",
    "id": "vVu0eXQD4xVc",
    "outputId": "83a5f553-f50d-44dc-d12a-6cb21e74e4d7"
   },
   "outputs": [
    {
     "name": "stdout",
     "output_type": "stream",
     "text": [
      "Convert pandas DataFrames to numpy arrays...\n",
      "X_train\n",
      "[['US' 24 1 'Direct' 2]\n",
      " ['US' 19 0 'Seo' 6]\n",
      " ['US' 31 1 'Seo' 1]\n",
      " ['US' 31 0 'Seo' 6]\n",
      " ['China' 34 1 'Direct' 2]]\n",
      "X_test\n",
      "[['China' 28 0 'Direct' 3]\n",
      " ['US' 19 0 'Seo' 1]]\n",
      "Y_train\n",
      "[[0]\n",
      " [0]\n",
      " [0]\n",
      " [0]\n",
      " [0]]\n",
      "Y_test\n",
      "[[0]\n",
      " [0]]\n"
     ]
    }
   ],
   "source": [
    "# Convert pandas DataFrames to numpy arrays before using scikit-learn\n",
    "print(\"Convert pandas DataFrames to numpy arrays...\")\n",
    "X_train = X_train.values\n",
    "X_test = X_test.values\n",
    "Y_train = Y_train.values\n",
    "Y_test = Y_test.values\n",
    "\n",
    "print('X_train')\n",
    "print(X_train[0:5,:])\n",
    "print('X_test')\n",
    "print(X_test[0:2,:])\n",
    "print('Y_train')\n",
    "print(Y_train[0:5])\n",
    "print('Y_test')\n",
    "print(Y_test[0:2])"
   ]
  },
  {
   "cell_type": "markdown",
   "metadata": {
    "colab_type": "text",
    "id": "7b_aU7ij7K3Q"
   },
   "source": [
    "## Training pipeline"
   ]
  },
  {
   "cell_type": "code",
   "execution_count": 24,
   "metadata": {},
   "outputs": [
    {
     "name": "stdout",
     "output_type": "stream",
     "text": [
      "Encoding categorical features and standardizing numerical features...\n",
      "...Done\n",
      "X_train\n",
      "[[-0.79437657 -0.85940768  0.          0.          1.          1.\n",
      "   1.          0.        ]\n",
      " [-1.39930296  0.33679965  0.          0.          1.          0.\n",
      "   0.          1.        ]\n",
      " [ 0.05252039 -1.15845951  0.          0.          1.          1.\n",
      "   0.          1.        ]\n",
      " [ 0.05252039  0.33679965  0.          0.          1.          0.\n",
      "   0.          1.        ]\n",
      " [ 0.41547623 -0.85940768  0.          0.          0.          1.\n",
      "   1.          0.        ]]\n"
     ]
    }
   ],
   "source": [
    "# Put here all the preprocessings\n",
    "print(\"Encoding categorical features and standardizing numerical features...\")\n",
    "\n",
    "numeric_indices = [1,4]\n",
    "numeric_transformer = StandardScaler()\n",
    "\n",
    "categorical_indices = [0,2,3]\n",
    "categorical_transformer = OneHotEncoder(drop='first') # first column will be dropped to avoid creating correlations between features\n",
    "\n",
    "feature_encoder = ColumnTransformer(transformers=[('num', numeric_transformer, numeric_indices),('cat', categorical_transformer, categorical_indices)])\n",
    "\n",
    "X_train = feature_encoder.fit_transform(X_train)\n",
    "\n",
    "print(\"...Done\")\n",
    "print('X_train')\n",
    "print(X_train[0:5,:])"
   ]
  },
  {
   "cell_type": "code",
   "execution_count": 25,
   "metadata": {
    "colab": {
     "base_uri": "https://localhost:8080/",
     "height": 104
    },
    "colab_type": "code",
    "id": "1qhidLbq7o-5",
    "outputId": "6bfb746c-1ff4-41c9-b0d6-a98fd09a444d"
   },
   "outputs": [
    {
     "name": "stdout",
     "output_type": "stream",
     "text": [
      "Train model...\n",
      "...Done.\n"
     ]
    }
   ],
   "source": [
    "# Train model\n",
    "print(\"Train model...\")\n",
    "classifier = LogisticRegression()\n",
    "classifier.fit(X_train, Y_train)\n",
    "print(\"...Done.\")"
   ]
  },
  {
   "cell_type": "code",
   "execution_count": 26,
   "metadata": {
    "colab": {
     "base_uri": "https://localhost:8080/",
     "height": 84
    },
    "colab_type": "code",
    "id": "Au2TK_vw7rD-",
    "outputId": "702789a8-4631-4c29-f297-e4b2901f3195"
   },
   "outputs": [
    {
     "name": "stdout",
     "output_type": "stream",
     "text": [
      "Predictions on training set...\n",
      "...Done.\n",
      "[0 0 0 ... 0 0 0]\n",
      "\n"
     ]
    }
   ],
   "source": [
    "# Predictions on training set\n",
    "print(\"Predictions on training set...\")\n",
    "Y_train_pred = classifier.predict(X_train)\n",
    "print(\"...Done.\")\n",
    "print(Y_train_pred)\n",
    "print()"
   ]
  },
  {
   "cell_type": "raw",
   "metadata": {
    "colab": {
     "base_uri": "https://localhost:8080/",
     "height": 84
    },
    "colab_type": "code",
    "id": "Au2TK_vw7rD-",
    "outputId": "702789a8-4631-4c29-f297-e4b2901f3195"
   },
   "source": [
    "# Predictions on training set\n",
    "print(\"Predictions on training set...\")\n",
    "Y_train_pred = classifier.predict(X_train)\n",
    "print(\"...Done.\")\n",
    "print(Y_train_pred)\n",
    "print()"
   ]
  },
  {
   "cell_type": "markdown",
   "metadata": {
    "colab_type": "text",
    "id": "7TY_v9uH_CE7"
   },
   "source": [
    "## Test pipeline"
   ]
  },
  {
   "cell_type": "code",
   "execution_count": 27,
   "metadata": {
    "colab": {
     "base_uri": "https://localhost:8080/",
     "height": 134
    },
    "colab_type": "code",
    "id": "ngOSdG6-_Cvb",
    "outputId": "1e19e8ee-222f-413b-9bc0-e9f41dcca1c0"
   },
   "outputs": [
    {
     "name": "stdout",
     "output_type": "stream",
     "text": [
      "Encoding categorical features and standardizing numerical features...\n",
      "...Done\n",
      "X_test\n",
      "[[-0.31043545 -0.56035585  0.          0.          0.          0.\n",
      "   1.          0.        ]\n",
      " [-1.39930296 -1.15845951  0.          0.          1.          0.\n",
      "   0.          1.        ]\n",
      " [-0.31043545  0.03774782  0.          0.          1.          1.\n",
      "   0.          1.        ]\n",
      " [-1.03634713  0.63585148  0.          0.          1.          1.\n",
      "   0.          0.        ]\n",
      " [-0.43142073  0.63585148  0.          1.          0.          1.\n",
      "   0.          1.        ]]\n"
     ]
    }
   ],
   "source": [
    "# Use X_test, and the same preprocessings as in training pipeline, \n",
    "# but call \"transform()\" instead of \"fit_transform\" methods (see example below)\n",
    "\n",
    "print(\"Encoding categorical features and standardizing numerical features...\")\n",
    "\n",
    "X_test = feature_encoder.transform(X_test)\n",
    "print(\"...Done\")\n",
    "print(\"X_test\")\n",
    "print(X_test[0:5,:])"
   ]
  },
  {
   "cell_type": "markdown",
   "metadata": {},
   "source": [
    "* The fit method is calculating the mean and variance of each of the features present in our data. \n",
    "* The transform method is transforming all the features using the respective mean and variance.\n",
    "* If we will use the fit method on our test data too, we will compute a new mean and variance that is a new scale for each feature and will let our model learn about our test data too. \n",
    "* Thus, what we want to keep as a surprise is no longer unknown to our model and we will not get a good estimate of how our model is performing on the test (unseen) data which is the ultimate goal of building a model using machine learning algorithm."
   ]
  },
  {
   "cell_type": "code",
   "execution_count": 28,
   "metadata": {
    "colab": {
     "base_uri": "https://localhost:8080/",
     "height": 84
    },
    "colab_type": "code",
    "id": "QS1XrzzE_jQI",
    "outputId": "866a96d2-4180-4bd1-ce54-ba052e75d485"
   },
   "outputs": [
    {
     "name": "stdout",
     "output_type": "stream",
     "text": [
      "Predictions on test set...\n",
      "...Done.\n",
      "[0 0 0 ... 0 0 0]\n"
     ]
    }
   ],
   "source": [
    "# Predictions on test set\n",
    "print(\"Predictions on test set...\")\n",
    "Y_test_pred = classifier.predict(X_test)\n",
    "print(\"...Done.\")\n",
    "print(Y_test_pred)"
   ]
  },
  {
   "cell_type": "markdown",
   "metadata": {
    "colab_type": "text",
    "id": "zxJCTlz0_2it"
   },
   "source": [
    "## Performance assessment"
   ]
  },
  {
   "cell_type": "code",
   "execution_count": 29,
   "metadata": {
    "colab": {
     "base_uri": "https://localhost:8080/",
     "height": 50
    },
    "colab_type": "code",
    "id": "6x7p1nyr_3UV",
    "outputId": "8e5b91ba-ca06-4486-d808-37a6aaaa8cf7"
   },
   "outputs": [
    {
     "name": "stdout",
     "output_type": "stream",
     "text": [
      "f1-score on train set :  0.7655112535897949\n",
      "f1-score on test set :  0.7468827930174564\n"
     ]
    }
   ],
   "source": [
    "# WARNING : Use the same score as the one that will be used by Kaggle !\n",
    "# Here, the f1-score will be used to assess the performances on the leaderboard\n",
    "# The f1-score measures the ability of the model to predict correctly\n",
    "print(\"f1-score on train set : \", f1_score(Y_train, Y_train_pred))\n",
    "print(\"f1-score on test set : \", f1_score(Y_test, Y_test_pred))"
   ]
  },
  {
   "cell_type": "markdown",
   "metadata": {},
   "source": [
    "* F1-score = weighted average of Precision and Recall.\n",
    "* Precision = ratio of correctly predicted positive observations to the total predicted positive observations. \n",
    "* Recall (Sensitivity) = ratio of correctly predicted positive observations to the all observations."
   ]
  },
  {
   "cell_type": "code",
   "execution_count": 30,
   "metadata": {},
   "outputs": [
    {
     "name": "stdout",
     "output_type": "stream",
     "text": [
      "accuracy on train set :  0.9862916891169052\n",
      "accuracy on test set :  0.9857333614449364\n"
     ]
    }
   ],
   "source": [
    "# Here, the accuracy score (proportion of exact predictions produced by the model)\n",
    "print(\"accuracy on train set : \", accuracy_score(Y_train, Y_train_pred))\n",
    "print(\"accuracy on test set : \", accuracy_score(Y_test, Y_test_pred))"
   ]
  },
  {
   "cell_type": "code",
   "execution_count": 31,
   "metadata": {
    "colab": {
     "base_uri": "https://localhost:8080/",
     "height": 151
    },
    "colab_type": "code",
    "id": "KhDTCeBy__JK",
    "outputId": "72c82d66-d765-437e-e9ef-4ccc80e7183f",
    "tags": []
   },
   "outputs": [
    {
     "name": "stdout",
     "output_type": "stream",
     "text": [
      "Confusion matrix on train set : \n",
      "[[246880    941]\n",
      " [  2570   5731]]\n",
      "\n",
      "Confusion matrix on test set : \n",
      "[[27453   126]\n",
      " [  280   599]]\n",
      "\n"
     ]
    }
   ],
   "source": [
    "# You can also check more performance metrics to better understand what your model is doing\n",
    "print(\"Confusion matrix on train set : \")\n",
    "print(confusion_matrix(Y_train, Y_train_pred))\n",
    "print()\n",
    "print(\"Confusion matrix on test set : \")\n",
    "print(confusion_matrix(Y_test, Y_test_pred))\n",
    "print()"
   ]
  },
  {
   "cell_type": "code",
   "execution_count": 32,
   "metadata": {},
   "outputs": [
    {
     "data": {
      "image/png": "[encoded data removed]",
      "text/plain": [
       "<Figure size 432x288 with 2 Axes>"
      ]
     },
     "metadata": {
      "needs_background": "light"
     },
     "output_type": "display_data"
    },
    {
     "data": {
      "image/png": "[encoded data removed]",
      "text/plain": [
       "<Figure size 432x288 with 2 Axes>"
      ]
     },
     "metadata": {
      "needs_background": "light"
     },
     "output_type": "display_data"
    }
   ],
   "source": [
    "# Visualize confusion matrices (which predictions are exact, as well as the amount of false positives and false negatives).\n",
    "_ , ax = plt.subplots()\n",
    "ax.set(title=\"Confusion Matrix on Train set\")\n",
    "ConfusionMatrixDisplay.from_estimator(classifier, X_train, Y_train, ax=ax)\n",
    "plt.show()\n",
    "\n",
    "_ , ax = plt.subplots()\n",
    "ax.set(title=\"Confusion Matrix on Test set\")\n",
    "ConfusionMatrixDisplay.from_estimator(classifier, X_test, Y_test, ax=ax)\n",
    "plt.show()"
   ]
  },
  {
   "cell_type": "markdown",
   "metadata": {},
   "source": [
    "* True-positive = how often correctly predicts YES (Good).\n",
    "* True-negative = how often correctly predicts NO (Good).\n",
    "* False-positive = how often badly predict YES (Bad)\n",
    "* False-negative = how often badly predict NO (Bad)."
   ]
  },
  {
   "cell_type": "code",
   "execution_count": 33,
   "metadata": {},
   "outputs": [
    {
     "data": {
      "text/html": [
       "<div>\n",
       "<style scoped>\n",
       "    .dataframe tbody tr th:only-of-type {\n",
       "        vertical-align: middle;\n",
       "    }\n",
       "\n",
       "    .dataframe tbody tr th {\n",
       "        vertical-align: top;\n",
       "    }\n",
       "\n",
       "    .dataframe thead th {\n",
       "        text-align: right;\n",
       "    }\n",
       "</style>\n",
       "<table border=\"1\" class=\"dataframe\">\n",
       "  <thead>\n",
       "    <tr style=\"text-align: right;\">\n",
       "      <th></th>\n",
       "      <th></th>\n",
       "      <th>Predicted NO</th>\n",
       "      <th>Predicted YES</th>\n",
       "    </tr>\n",
       "  </thead>\n",
       "  <tbody>\n",
       "    <tr>\n",
       "      <th>0</th>\n",
       "      <td>Reality N0</td>\n",
       "      <td>True Negative (Good)</td>\n",
       "      <td>False Positive (Bad)</td>\n",
       "    </tr>\n",
       "    <tr>\n",
       "      <th>1</th>\n",
       "      <td>Reality YES</td>\n",
       "      <td>False Negative (Bad)</td>\n",
       "      <td>True Positive (Good)</td>\n",
       "    </tr>\n",
       "  </tbody>\n",
       "</table>\n",
       "</div>"
      ],
      "text/plain": [
       "                        Predicted NO         Predicted YES\n",
       "0   Reality N0  True Negative (Good)  False Positive (Bad)\n",
       "1  Reality YES  False Negative (Bad)  True Positive (Good)"
      ]
     },
     "metadata": {},
     "output_type": "display_data"
    }
   ],
   "source": [
    "# what a confusion matrix is\n",
    "df = {'' : ['Reality N0', 'Reality YES'],\n",
    "    'Predicted NO': ['True Negative (Good)', 'False Negative (Bad)'],\n",
    "    'Predicted YES': ['False Positive (Bad)', 'True Positive (Good)']}\n",
    "df = pd.DataFrame(df)\n",
    "display(df)"
   ]
  },
  {
   "cell_type": "markdown",
   "metadata": {},
   "source": [
    "**Our baseline model reaches a f1-score of almost 70%. Now, feel free to refine your model and try to beat this score ! 🚀🚀**"
   ]
  },
  {
   "cell_type": "markdown",
   "metadata": {
    "colab_type": "text",
    "id": "6tVVDRABv91O"
   },
   "source": [
    "# Train best classifier on all data and use it to make predictions on X_without_labels\n",
    "**Before making predictions on the file conversion_data_test.csv, let's train our model on ALL the data that was in conversion_data_train.csv. Sometimes, this allows to make tiny improvements in the score because we're using more examples to train the model.**"
   ]
  },
  {
   "cell_type": "code",
   "execution_count": 34,
   "metadata": {
    "colab": {
     "base_uri": "https://localhost:8080/",
     "height": 154
    },
    "colab_type": "code",
    "id": "M14RHUadzE2p",
    "outputId": "abcfcfec-9461-4579-adbd-f23270f984eb"
   },
   "outputs": [
    {
     "data": {
      "text/plain": [
       "LogisticRegression()"
      ]
     },
     "execution_count": 34,
     "metadata": {},
     "output_type": "execute_result"
    }
   ],
   "source": [
    "# Concatenate our train and test set to train your best classifier on all data with labels\n",
    "X = np.append(X_train,X_test,axis=0)\n",
    "Y = np.append(Y_train,Y_test)\n",
    "\n",
    "classifier.fit(X,Y)"
   ]
  },
  {
   "cell_type": "code",
   "execution_count": 35,
   "metadata": {},
   "outputs": [
    {
     "name": "stdout",
     "output_type": "stream",
     "text": [
      "Prediction set (without labels) : (31620, 5)\n"
     ]
    }
   ],
   "source": [
    "# Read data without labels\n",
    "data_without_labels = pd.read_csv('conversion_data_test.csv')\n",
    "print('Prediction set (without labels) :', data_without_labels.shape)"
   ]
  },
  {
   "cell_type": "code",
   "execution_count": 36,
   "metadata": {},
   "outputs": [
    {
     "data": {
      "text/html": [
       "<div>\n",
       "<style scoped>\n",
       "    .dataframe tbody tr th:only-of-type {\n",
       "        vertical-align: middle;\n",
       "    }\n",
       "\n",
       "    .dataframe tbody tr th {\n",
       "        vertical-align: top;\n",
       "    }\n",
       "\n",
       "    .dataframe thead th {\n",
       "        text-align: right;\n",
       "    }\n",
       "</style>\n",
       "<table border=\"1\" class=\"dataframe\">\n",
       "  <thead>\n",
       "    <tr style=\"text-align: right;\">\n",
       "      <th></th>\n",
       "      <th>country</th>\n",
       "      <th>age</th>\n",
       "      <th>new_user</th>\n",
       "      <th>source</th>\n",
       "      <th>total_pages_visited</th>\n",
       "    </tr>\n",
       "  </thead>\n",
       "  <tbody>\n",
       "    <tr>\n",
       "      <th>0</th>\n",
       "      <td>UK</td>\n",
       "      <td>28</td>\n",
       "      <td>0</td>\n",
       "      <td>Seo</td>\n",
       "      <td>16</td>\n",
       "    </tr>\n",
       "    <tr>\n",
       "      <th>1</th>\n",
       "      <td>UK</td>\n",
       "      <td>22</td>\n",
       "      <td>1</td>\n",
       "      <td>Direct</td>\n",
       "      <td>5</td>\n",
       "    </tr>\n",
       "    <tr>\n",
       "      <th>2</th>\n",
       "      <td>China</td>\n",
       "      <td>32</td>\n",
       "      <td>1</td>\n",
       "      <td>Seo</td>\n",
       "      <td>1</td>\n",
       "    </tr>\n",
       "    <tr>\n",
       "      <th>3</th>\n",
       "      <td>US</td>\n",
       "      <td>32</td>\n",
       "      <td>1</td>\n",
       "      <td>Ads</td>\n",
       "      <td>6</td>\n",
       "    </tr>\n",
       "    <tr>\n",
       "      <th>4</th>\n",
       "      <td>China</td>\n",
       "      <td>25</td>\n",
       "      <td>0</td>\n",
       "      <td>Seo</td>\n",
       "      <td>3</td>\n",
       "    </tr>\n",
       "  </tbody>\n",
       "</table>\n",
       "</div>"
      ],
      "text/plain": [
       "  country  age  new_user  source  total_pages_visited\n",
       "0      UK   28         0     Seo                   16\n",
       "1      UK   22         1  Direct                    5\n",
       "2   China   32         1     Seo                    1\n",
       "3      US   32         1     Ads                    6\n",
       "4   China   25         0     Seo                    3"
      ]
     },
     "execution_count": 36,
     "metadata": {},
     "output_type": "execute_result"
    }
   ],
   "source": [
    "# Sanity check (no target)\n",
    "data_without_labels.head()"
   ]
  },
  {
   "cell_type": "code",
   "execution_count": 37,
   "metadata": {
    "colab": {
     "base_uri": "https://localhost:8080/",
     "height": 151
    },
    "colab_type": "code",
    "id": "Tr4CEaPzzbP-",
    "outputId": "f0d1c8ed-be4b-4974-d7b9-f23a49344d9d"
   },
   "outputs": [
    {
     "name": "stdout",
     "output_type": "stream",
     "text": [
      "Convert pandas DataFrames to numpy arrays...\n",
      "...Done\n",
      "[['UK' 28 0 'Seo' 16]\n",
      " ['UK' 22 1 'Direct' 5]\n",
      " ['China' 32 1 'Seo' 1]\n",
      " ['US' 32 1 'Ads' 6]\n",
      " ['China' 25 0 'Seo' 3]]\n"
     ]
    }
   ],
   "source": [
    "# Warning : check consistency of features_list (must be the same than the features \n",
    "# used by your best classifier)\n",
    "features_list = ['country','age','new_user','source','total_pages_visited']\n",
    "X_without_labels = data_without_labels.loc[:, features_list]\n",
    "\n",
    "# Convert pandas DataFrames to numpy arrays before using scikit-learn\n",
    "print(\"Convert pandas DataFrames to numpy arrays...\")\n",
    "X_without_labels = X_without_labels.values\n",
    "print(\"...Done\")\n",
    "print(X_without_labels[0:5,:])"
   ]
  },
  {
   "cell_type": "code",
   "execution_count": 38,
   "metadata": {
    "colab": {
     "base_uri": "https://localhost:8080/",
     "height": 134
    },
    "colab_type": "code",
    "id": "LoUISfsT0HMR",
    "outputId": "e42dc389-5e77-4e13-ccbc-1fef4aa2c0ca"
   },
   "outputs": [
    {
     "name": "stdout",
     "output_type": "stream",
     "text": [
      "Encoding categorical features and standardizing numerical features...\n",
      "...Done\n",
      "X_without_labels\n",
      "[[-0.31043545  3.32731798  0.          1.          0.          0.\n",
      "   0.          1.        ]\n",
      " [-1.03634713  0.03774782  0.          1.          0.          1.\n",
      "   1.          0.        ]\n",
      " [ 0.17350567 -1.15845951  0.          0.          0.          1.\n",
      "   0.          1.        ]\n",
      " [ 0.17350567  0.33679965  0.          0.          1.          1.\n",
      "   0.          0.        ]\n",
      " [-0.67339129 -0.56035585  0.          0.          0.          0.\n",
      "   0.          1.        ]]\n"
     ]
    }
   ],
   "source": [
    "# WARNING : PUT HERE THE SAME PREPROCESSING AS FOR YOUR TEST SET\n",
    "# CHECK YOU ARE USING X_without_labels\n",
    "print(\"Encoding categorical features and standardizing numerical features...\")\n",
    "\n",
    "X_without_labels = feature_encoder.transform(X_without_labels)\n",
    "print(\"...Done\")\n",
    "print('X_without_labels')\n",
    "print(X_without_labels[0:5,:])"
   ]
  },
  {
   "cell_type": "code",
   "execution_count": 39,
   "metadata": {
    "colab": {},
    "colab_type": "code",
    "id": "7DuWSEHuwEQJ"
   },
   "outputs": [],
   "source": [
    "# Make predictions and dump to file\n",
    "# WARNING : MAKE SURE THE FILE IS A CSV WITH ONE COLUMN NAMED 'converted' AND NO INDEX !\n",
    "# WARNING : FILE NAME MUST HAVE FORMAT 'conversion_data_test_predictions_[name].csv'\n",
    "# where [name] is the name of your team/model separated by a '-'\n",
    "# For example : [name] = AURELIE-model1\n",
    "data = {'converted': classifier.predict(X_without_labels)}\n",
    "\n",
    "Y_predictions = pd.DataFrame(columns=['converted'],data=data)\n",
    "Y_predictions.to_csv('conversion_data_test_predictions_LParat.csv', index=False)"
   ]
  },
  {
   "cell_type": "code",
   "execution_count": 40,
   "metadata": {},
   "outputs": [
    {
     "data": {
      "text/html": [
       "<div>\n",
       "<style scoped>\n",
       "    .dataframe tbody tr th:only-of-type {\n",
       "        vertical-align: middle;\n",
       "    }\n",
       "\n",
       "    .dataframe tbody tr th {\n",
       "        vertical-align: top;\n",
       "    }\n",
       "\n",
       "    .dataframe thead th {\n",
       "        text-align: right;\n",
       "    }\n",
       "</style>\n",
       "<table border=\"1\" class=\"dataframe\">\n",
       "  <thead>\n",
       "    <tr style=\"text-align: right;\">\n",
       "      <th></th>\n",
       "      <th>converted</th>\n",
       "    </tr>\n",
       "  </thead>\n",
       "  <tbody>\n",
       "    <tr>\n",
       "      <th>count</th>\n",
       "      <td>31620.000000</td>\n",
       "    </tr>\n",
       "    <tr>\n",
       "      <th>mean</th>\n",
       "      <td>0.025996</td>\n",
       "    </tr>\n",
       "    <tr>\n",
       "      <th>std</th>\n",
       "      <td>0.159126</td>\n",
       "    </tr>\n",
       "    <tr>\n",
       "      <th>min</th>\n",
       "      <td>0.000000</td>\n",
       "    </tr>\n",
       "    <tr>\n",
       "      <th>25%</th>\n",
       "      <td>0.000000</td>\n",
       "    </tr>\n",
       "    <tr>\n",
       "      <th>50%</th>\n",
       "      <td>0.000000</td>\n",
       "    </tr>\n",
       "    <tr>\n",
       "      <th>75%</th>\n",
       "      <td>0.000000</td>\n",
       "    </tr>\n",
       "    <tr>\n",
       "      <th>max</th>\n",
       "      <td>1.000000</td>\n",
       "    </tr>\n",
       "  </tbody>\n",
       "</table>\n",
       "</div>"
      ],
      "text/plain": [
       "          converted\n",
       "count  31620.000000\n",
       "mean       0.025996\n",
       "std        0.159126\n",
       "min        0.000000\n",
       "25%        0.000000\n",
       "50%        0.000000\n",
       "75%        0.000000\n",
       "max        1.000000"
      ]
     },
     "execution_count": 40,
     "metadata": {},
     "output_type": "execute_result"
    }
   ],
   "source": [
    "Y_predictions.describe()        "
   ]
  },
  {
   "cell_type": "code",
   "execution_count": 41,
   "metadata": {},
   "outputs": [
    {
     "data": {
      "text/html": [
       "<div>\n",
       "<style scoped>\n",
       "    .dataframe tbody tr th:only-of-type {\n",
       "        vertical-align: middle;\n",
       "    }\n",
       "\n",
       "    .dataframe tbody tr th {\n",
       "        vertical-align: top;\n",
       "    }\n",
       "\n",
       "    .dataframe thead th {\n",
       "        text-align: right;\n",
       "    }\n",
       "</style>\n",
       "<table border=\"1\" class=\"dataframe\">\n",
       "  <thead>\n",
       "    <tr style=\"text-align: right;\">\n",
       "      <th></th>\n",
       "      <th>converted</th>\n",
       "    </tr>\n",
       "  </thead>\n",
       "  <tbody>\n",
       "    <tr>\n",
       "      <th>0</th>\n",
       "      <td>1</td>\n",
       "    </tr>\n",
       "    <tr>\n",
       "      <th>1</th>\n",
       "      <td>0</td>\n",
       "    </tr>\n",
       "    <tr>\n",
       "      <th>2</th>\n",
       "      <td>0</td>\n",
       "    </tr>\n",
       "    <tr>\n",
       "      <th>3</th>\n",
       "      <td>0</td>\n",
       "    </tr>\n",
       "    <tr>\n",
       "      <th>4</th>\n",
       "      <td>0</td>\n",
       "    </tr>\n",
       "  </tbody>\n",
       "</table>\n",
       "</div>"
      ],
      "text/plain": [
       "   converted\n",
       "0          1\n",
       "1          0\n",
       "2          0\n",
       "3          0\n",
       "4          0"
      ]
     },
     "execution_count": 41,
     "metadata": {},
     "output_type": "execute_result"
    }
   ],
   "source": [
    "Y_predictions.head()"
   ]
  },
  {
   "cell_type": "markdown",
   "metadata": {
    "tags": []
   },
   "source": [
    "## Analyzing the coefficients and interpreting the result\n",
    "**In this template, we just trained a model with only one feature (total_pages_visited), so there's no analysis to be done about the feature importance 🤔**\n",
    "\n",
    "**Once you've included more features in your model, please take some time to analyze the model's parameters and try to find some lever for action to improve the newsletter's conversion rate 😎😎**"
   ]
  },
  {
   "cell_type": "markdown",
   "metadata": {},
   "source": [
    "## Conclusion 👨‍🎓\n",
    "**After several setup I choose to take into account all features instead only one feature and keep test_size=0.1 and random_state=42.**\n",
    "\n",
    "**To improve the newsletter's conversion rate my recommandation could be to develop web page in Chinese/mandarin. 🇨🇳**\n",
    "\n",
    "**As we can observe \"total_pages_visited\" is the main driver for \"conversion\" and China is the second country in term of users 😃 but the last in term of conversion.😉**"
   ]
  },
  {
   "cell_type": "markdown",
   "metadata": {},
   "source": [
    "By Luc Parat 😎 2022/09\n",
    "\n",
    "lucparat1@gmail.com\n",
    "\n",
    "https://share.vidyard.com/watch/ZLhXNXXZrKKCkFeJZQxoeb?"
   ]
  }
 ],
 "metadata": {
  "colab": {
   "collapsed_sections": [],
   "name": "Projets_template.ipynb",
   "provenance": []
  },
  "kernelspec": {
   "display_name": "Python 3 (ipykernel)",
   "language": "python",
   "name": "python3"
  },
  "language_info": {
   "codemirror_mode": {
    "name": "ipython",
    "version": 3
   },
   "file_extension": ".py",
   "mimetype": "text/x-python",
   "name": "python",
   "nbconvert_exporter": "python",
   "pygments_lexer": "ipython3",
   "version": "3.9.7"
  }
 },
 "nbformat": 4,
 "nbformat_minor": 4
}
